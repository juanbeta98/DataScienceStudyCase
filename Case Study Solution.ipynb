{
 "cells": [
  {
   "cell_type": "code",
   "execution_count": 1,
   "metadata": {},
   "outputs": [],
   "source": [
    "from source import *\n",
    "import ipywidgets as widgets\n",
    "from ipywidgets import interact, interactive, fixed, interact_manual\n",
    "import warnings; warnings.filterwarnings('ignore')"
   ]
  },
  {
   "cell_type": "markdown",
   "metadata": {},
   "source": [
    "# Data Science Case Study: Supplier Audit Results Prediction\n",
    "\n",
    "by: Juan Betancourt\n",
    "\n",
    "juan.beta98@gmail.com"
   ]
  },
  {
   "cell_type": "markdown",
   "metadata": {},
   "source": [
    "# Contents\n",
    "\n",
    "1. Brief Case Study Description\n",
    "\n",
    "2. Data Exploration and Assumptions Formulation\n",
    "\n",
    "3. Preprocessing the Data\n",
    "\n",
    "4. Predictor Selection\n",
    "\n",
    "5. Best Model Selection\n",
    "\n",
    "6. Prediction for Audit Results\n",
    "\n",
    "7. Business Recomendations\n",
    "\n",
    "8. Model Maintenance"
   ]
  },
  {
   "cell_type": "markdown",
   "metadata": {},
   "source": [
    "# 1.Brief Case Study Description\n",
    "\n",
    "\n",
    "<br><div style=\"text-align: justify\"> \n",
    "Managing suppliers is a critical aspect of the operational efficiency of any manufacturing company. Issues such as irregular lead times, backlogs, and incorrect orders can significantly disrupt manufacturing schedules, increase costs, and ultimately impact the service level provided to customers. In the context of this case study, our focus is on predicting the outcome of audits for a specific supplier and derivative combination.\n",
    "</div> \n",
    "\n",
    "<br><div style=\"text-align: justify\"> \n",
    "The process involves three stages: T1, T2, and T3. The goal is to forecast the most recent qualification status for a given supplier and derivative in their final audit stage. To achieve this objective, we have access to two datasets. The first dataset comprises essential information regarding the audit history of suppliers and the derivatives under their management. The second dataset provides diverse metrics related to the performance of suppliers.\n",
    "</div> "
   ]
  },
  {
   "cell_type": "markdown",
   "metadata": {},
   "source": [
    "# 2.Data Exploration"
   ]
  },
  {
   "cell_type": "markdown",
   "metadata": {},
   "source": [
    "## 2.1 Initial Exploration\n",
    "\n",
    "The initial stage of data exploration involves obtaining a comprehensive overview of the datasets. This includes understanding the structure, content, and key characteristics of the available data."
   ]
  },
  {
   "cell_type": "markdown",
   "metadata": {},
   "source": [
    "### 2.1.1 _AuditHistory_ dataset"
   ]
  },
  {
   "cell_type": "code",
   "execution_count": 2,
   "metadata": {},
   "outputs": [
    {
     "data": {
      "text/html": [
       "<div>\n",
       "<style scoped>\n",
       "    .dataframe tbody tr th:only-of-type {\n",
       "        vertical-align: middle;\n",
       "    }\n",
       "\n",
       "    .dataframe tbody tr th {\n",
       "        vertical-align: top;\n",
       "    }\n",
       "\n",
       "    .dataframe thead th {\n",
       "        text-align: right;\n",
       "    }\n",
       "</style>\n",
       "<table border=\"1\" class=\"dataframe\">\n",
       "  <thead>\n",
       "    <tr style=\"text-align: right;\">\n",
       "      <th></th>\n",
       "      <th>SupplierId</th>\n",
       "      <th>RecentMonth</th>\n",
       "      <th>RecentTimeStamp</th>\n",
       "      <th>DerivativeName</th>\n",
       "      <th>DerivativeRegion</th>\n",
       "      <th>ProductionLine</th>\n",
       "      <th>T1Color</th>\n",
       "      <th>T2Color</th>\n",
       "      <th>T3Color</th>\n",
       "      <th>Result</th>\n",
       "    </tr>\n",
       "  </thead>\n",
       "  <tbody>\n",
       "    <tr>\n",
       "      <th>0</th>\n",
       "      <td>f763999191217e9945b26d312d0902d5</td>\n",
       "      <td>2022-06</td>\n",
       "      <td>2022-06-30T10:01:20Z</td>\n",
       "      <td>3c4d48ad7d892bfe96a6df0fabe6deaa</td>\n",
       "      <td>Asia</td>\n",
       "      <td>LU</td>\n",
       "      <td>Green</td>\n",
       "      <td>Green</td>\n",
       "      <td>-</td>\n",
       "      <td>Green</td>\n",
       "    </tr>\n",
       "    <tr>\n",
       "      <th>1</th>\n",
       "      <td>377c62276b7dd74e406ac5de3c872110</td>\n",
       "      <td>2022-09</td>\n",
       "      <td>2022-09-28T07:00:46Z</td>\n",
       "      <td>2dc5fe1b4f8895bb1096f6470b7d8550</td>\n",
       "      <td>Europe</td>\n",
       "      <td>LG</td>\n",
       "      <td>Green</td>\n",
       "      <td>Green</td>\n",
       "      <td>Green</td>\n",
       "      <td>Green</td>\n",
       "    </tr>\n",
       "    <tr>\n",
       "      <th>2</th>\n",
       "      <td>20beb9edfc8536f19109a15b5ce1a845</td>\n",
       "      <td>2022-09</td>\n",
       "      <td>2022-09-28T07:00:46Z</td>\n",
       "      <td>9c491ff90cbfc2882aa1116944658240</td>\n",
       "      <td>Europe</td>\n",
       "      <td>LC</td>\n",
       "      <td>Green</td>\n",
       "      <td>Green</td>\n",
       "      <td>Green</td>\n",
       "      <td>Green</td>\n",
       "    </tr>\n",
       "    <tr>\n",
       "      <th>3</th>\n",
       "      <td>d0ae2fdd6681f6f99469af4f1ede3928</td>\n",
       "      <td>2022-10</td>\n",
       "      <td>2022-10-31T11:01:25Z</td>\n",
       "      <td>3724c242924ad7b7871634355d6ee63e</td>\n",
       "      <td>USA</td>\n",
       "      <td>LC</td>\n",
       "      <td>Green</td>\n",
       "      <td>Green</td>\n",
       "      <td>Green</td>\n",
       "      <td>Green</td>\n",
       "    </tr>\n",
       "    <tr>\n",
       "      <th>4</th>\n",
       "      <td>4668950356774590b25d92473b8756d9</td>\n",
       "      <td>2022-02</td>\n",
       "      <td>2022-02-28T11:01:17Z</td>\n",
       "      <td>99904aba55dd386296e5925bac70abe0</td>\n",
       "      <td>Europe</td>\n",
       "      <td>LU</td>\n",
       "      <td>Green</td>\n",
       "      <td>Red</td>\n",
       "      <td>-</td>\n",
       "      <td>Red</td>\n",
       "    </tr>\n",
       "  </tbody>\n",
       "</table>\n",
       "</div>"
      ],
      "text/plain": [
       "                         SupplierId RecentMonth       RecentTimeStamp  \\\n",
       "0  f763999191217e9945b26d312d0902d5     2022-06  2022-06-30T10:01:20Z   \n",
       "1  377c62276b7dd74e406ac5de3c872110     2022-09  2022-09-28T07:00:46Z   \n",
       "2  20beb9edfc8536f19109a15b5ce1a845     2022-09  2022-09-28T07:00:46Z   \n",
       "3  d0ae2fdd6681f6f99469af4f1ede3928     2022-10  2022-10-31T11:01:25Z   \n",
       "4  4668950356774590b25d92473b8756d9     2022-02  2022-02-28T11:01:17Z   \n",
       "\n",
       "                     DerivativeName DerivativeRegion ProductionLine T1Color  \\\n",
       "0  3c4d48ad7d892bfe96a6df0fabe6deaa             Asia             LU   Green   \n",
       "1  2dc5fe1b4f8895bb1096f6470b7d8550           Europe             LG   Green   \n",
       "2  9c491ff90cbfc2882aa1116944658240           Europe             LC   Green   \n",
       "3  3724c242924ad7b7871634355d6ee63e              USA             LC   Green   \n",
       "4  99904aba55dd386296e5925bac70abe0           Europe             LU   Green   \n",
       "\n",
       "  T2Color T3Color Result  \n",
       "0   Green       -  Green  \n",
       "1   Green   Green  Green  \n",
       "2   Green   Green  Green  \n",
       "3   Green   Green  Green  \n",
       "4     Red       -    Red  "
      ]
     },
     "execution_count": 2,
     "metadata": {},
     "output_type": "execute_result"
    }
   ],
   "source": [
    "AuditHistory.head()"
   ]
  },
  {
   "cell_type": "code",
   "execution_count": 3,
   "metadata": {},
   "outputs": [
    {
     "data": {
      "text/html": [
       "<div>\n",
       "<style scoped>\n",
       "    .dataframe tbody tr th:only-of-type {\n",
       "        vertical-align: middle;\n",
       "    }\n",
       "\n",
       "    .dataframe tbody tr th {\n",
       "        vertical-align: top;\n",
       "    }\n",
       "\n",
       "    .dataframe thead th {\n",
       "        text-align: right;\n",
       "    }\n",
       "</style>\n",
       "<table border=\"1\" class=\"dataframe\">\n",
       "  <thead>\n",
       "    <tr style=\"text-align: right;\">\n",
       "      <th></th>\n",
       "      <th>SupplierId</th>\n",
       "      <th>RecentMonth</th>\n",
       "      <th>RecentTimeStamp</th>\n",
       "      <th>DerivativeName</th>\n",
       "      <th>DerivativeRegion</th>\n",
       "      <th>ProductionLine</th>\n",
       "      <th>T1Color</th>\n",
       "      <th>T2Color</th>\n",
       "      <th>T3Color</th>\n",
       "      <th>Result</th>\n",
       "    </tr>\n",
       "  </thead>\n",
       "  <tbody>\n",
       "    <tr>\n",
       "      <th>count</th>\n",
       "      <td>7690</td>\n",
       "      <td>7690</td>\n",
       "      <td>7690</td>\n",
       "      <td>7690</td>\n",
       "      <td>7547</td>\n",
       "      <td>7690</td>\n",
       "      <td>7690</td>\n",
       "      <td>7690</td>\n",
       "      <td>7690</td>\n",
       "      <td>7690</td>\n",
       "    </tr>\n",
       "    <tr>\n",
       "      <th>unique</th>\n",
       "      <td>818</td>\n",
       "      <td>9</td>\n",
       "      <td>9</td>\n",
       "      <td>75</td>\n",
       "      <td>5</td>\n",
       "      <td>4</td>\n",
       "      <td>3</td>\n",
       "      <td>4</td>\n",
       "      <td>4</td>\n",
       "      <td>3</td>\n",
       "    </tr>\n",
       "    <tr>\n",
       "      <th>top</th>\n",
       "      <td>4600f0a901054216cf0eecf2999f7eb2</td>\n",
       "      <td>2022-10</td>\n",
       "      <td>2022-10-31T11:01:25Z</td>\n",
       "      <td>9c491ff90cbfc2882aa1116944658240</td>\n",
       "      <td>Europe</td>\n",
       "      <td>LC</td>\n",
       "      <td>Green</td>\n",
       "      <td>Green</td>\n",
       "      <td>Green</td>\n",
       "      <td>Green</td>\n",
       "    </tr>\n",
       "    <tr>\n",
       "      <th>freq</th>\n",
       "      <td>36</td>\n",
       "      <td>989</td>\n",
       "      <td>989</td>\n",
       "      <td>760</td>\n",
       "      <td>3643</td>\n",
       "      <td>2737</td>\n",
       "      <td>7417</td>\n",
       "      <td>5499</td>\n",
       "      <td>4178</td>\n",
       "      <td>6797</td>\n",
       "    </tr>\n",
       "  </tbody>\n",
       "</table>\n",
       "</div>"
      ],
      "text/plain": [
       "                              SupplierId RecentMonth       RecentTimeStamp  \\\n",
       "count                               7690        7690                  7690   \n",
       "unique                               818           9                     9   \n",
       "top     4600f0a901054216cf0eecf2999f7eb2     2022-10  2022-10-31T11:01:25Z   \n",
       "freq                                  36         989                   989   \n",
       "\n",
       "                          DerivativeName DerivativeRegion ProductionLine  \\\n",
       "count                               7690             7547           7690   \n",
       "unique                                75                5              4   \n",
       "top     9c491ff90cbfc2882aa1116944658240           Europe             LC   \n",
       "freq                                 760             3643           2737   \n",
       "\n",
       "       T1Color T2Color T3Color Result  \n",
       "count     7690    7690    7690   7690  \n",
       "unique       3       4       4      3  \n",
       "top      Green   Green   Green  Green  \n",
       "freq      7417    5499    4178   6797  "
      ]
     },
     "execution_count": 3,
     "metadata": {},
     "output_type": "execute_result"
    }
   ],
   "source": [
    "AuditHistory.describe()"
   ]
  },
  {
   "cell_type": "code",
   "execution_count": 4,
   "metadata": {},
   "outputs": [
    {
     "name": "stdout",
     "output_type": "stream",
     "text": [
      "<class 'pandas.core.frame.DataFrame'>\n",
      "RangeIndex: 7690 entries, 0 to 7689\n",
      "Data columns (total 10 columns):\n",
      " #   Column            Non-Null Count  Dtype \n",
      "---  ------            --------------  ----- \n",
      " 0   SupplierId        7690 non-null   object\n",
      " 1   RecentMonth       7690 non-null   object\n",
      " 2   RecentTimeStamp   7690 non-null   object\n",
      " 3   DerivativeName    7690 non-null   object\n",
      " 4   DerivativeRegion  7547 non-null   object\n",
      " 5   ProductionLine    7690 non-null   object\n",
      " 6   T1Color           7690 non-null   object\n",
      " 7   T2Color           7690 non-null   object\n",
      " 8   T3Color           7690 non-null   object\n",
      " 9   Result            7690 non-null   object\n",
      "dtypes: object(10)\n",
      "memory usage: 600.9+ KB\n"
     ]
    }
   ],
   "source": [
    "AuditHistory.info()"
   ]
  },
  {
   "cell_type": "markdown",
   "metadata": {},
   "source": [
    "This dataset has 10 columns and 7690 entries. As there are various categorical features, here are some details:\n",
    "\n",
    "- The dataset covers a time interval of 9 different months.\n",
    "- A total of 818 suppliers, 75 derivatives, five (5) regions, and four (4) production lines are registered.\n",
    "\n",
    "The only column with missing values is the _derivative region_ with 143 missing values."
   ]
  },
  {
   "cell_type": "code",
   "execution_count": 5,
   "metadata": {},
   "outputs": [
    {
     "ename": "AttributeError",
     "evalue": "'DataFrame' object has no attribute 'sort_intex'",
     "output_type": "error",
     "traceback": [
      "\u001b[0;31m---------------------------------------------------------------------------\u001b[0m",
      "\u001b[0;31mAttributeError\u001b[0m                            Traceback (most recent call last)",
      "\u001b[0;32m/var/folders/m6/89fwm0dn5mjbdz4tkj6586bm0000gn/T/ipykernel_15899/4062288978.py\u001b[0m in \u001b[0;36m?\u001b[0;34m()\u001b[0m\n\u001b[0;32m----> 1\u001b[0;31m \u001b[0mplot_audit_colors\u001b[0m\u001b[0;34m(\u001b[0m\u001b[0mAuditHistory\u001b[0m\u001b[0;34m,\u001b[0m\u001b[0;34m'f763999191217e9945b26d312d0902d5'\u001b[0m\u001b[0;34m,\u001b[0m\u001b[0;34m'3c4d48ad7d892bfe96a6df0fabe6deaa'\u001b[0m\u001b[0;34m)\u001b[0m\u001b[0;34m\u001b[0m\u001b[0;34m\u001b[0m\u001b[0m\n\u001b[0m",
      "\u001b[0;32m~/My Drive/Research/Internship/DataScienceStudyCase/source.py\u001b[0m in \u001b[0;36m?\u001b[0;34m(df, SupplierId, DerivativeName)\u001b[0m\n\u001b[1;32m     88\u001b[0m         \u001b[0;32mreturn\u001b[0m\u001b[0;34m\u001b[0m\u001b[0;34m\u001b[0m\u001b[0m\n\u001b[1;32m     89\u001b[0m \u001b[0;34m\u001b[0m\u001b[0m\n\u001b[1;32m     90\u001b[0m     \u001b[0;31m# Set the 'RecentMonth' column as the index for time series plotting\u001b[0m\u001b[0;34m\u001b[0m\u001b[0;34m\u001b[0m\u001b[0m\n\u001b[1;32m     91\u001b[0m     \u001b[0mfiltered_df\u001b[0m\u001b[0;34m.\u001b[0m\u001b[0mset_index\u001b[0m\u001b[0;34m(\u001b[0m\u001b[0;34m'RecentMonth'\u001b[0m\u001b[0;34m,\u001b[0m \u001b[0minplace\u001b[0m\u001b[0;34m=\u001b[0m\u001b[0;32mTrue\u001b[0m\u001b[0;34m)\u001b[0m\u001b[0;34m\u001b[0m\u001b[0;34m\u001b[0m\u001b[0m\n\u001b[0;32m---> 92\u001b[0;31m     \u001b[0mfiltered_df\u001b[0m \u001b[0;34m=\u001b[0m \u001b[0mfiltered_df\u001b[0m\u001b[0;34m.\u001b[0m\u001b[0msort_intex\u001b[0m\u001b[0;34m(\u001b[0m\u001b[0;34m)\u001b[0m\u001b[0;34m\u001b[0m\u001b[0;34m\u001b[0m\u001b[0m\n\u001b[0m\u001b[1;32m     93\u001b[0m \u001b[0;34m\u001b[0m\u001b[0m\n\u001b[1;32m     94\u001b[0m     \u001b[0;31m# Create a color map for mapping status to color\u001b[0m\u001b[0;34m\u001b[0m\u001b[0;34m\u001b[0m\u001b[0m\n\u001b[1;32m     95\u001b[0m     \u001b[0mcolor_map\u001b[0m \u001b[0;34m=\u001b[0m \u001b[0;34m{\u001b[0m\u001b[0;34m'-'\u001b[0m\u001b[0;34m:\u001b[0m \u001b[0;34m'white'\u001b[0m\u001b[0;34m,\u001b[0m \u001b[0;34m'Green'\u001b[0m\u001b[0;34m:\u001b[0m \u001b[0;34m'green'\u001b[0m\u001b[0;34m,\u001b[0m \u001b[0;34m'Yellow'\u001b[0m\u001b[0;34m:\u001b[0m \u001b[0;34m'yellow'\u001b[0m\u001b[0;34m,\u001b[0m \u001b[0;34m'Red'\u001b[0m\u001b[0;34m:\u001b[0m \u001b[0;34m'red'\u001b[0m\u001b[0;34m}\u001b[0m\u001b[0;34m\u001b[0m\u001b[0;34m\u001b[0m\u001b[0m\n",
      "\u001b[0;32m~/micromamba/envs/BMWEnv/lib/python3.11/site-packages/pandas/core/generic.py\u001b[0m in \u001b[0;36m?\u001b[0;34m(self, name)\u001b[0m\n\u001b[1;32m   6200\u001b[0m             \u001b[0;32mand\u001b[0m \u001b[0mname\u001b[0m \u001b[0;32mnot\u001b[0m \u001b[0;32min\u001b[0m \u001b[0mself\u001b[0m\u001b[0;34m.\u001b[0m\u001b[0m_accessors\u001b[0m\u001b[0;34m\u001b[0m\u001b[0;34m\u001b[0m\u001b[0m\n\u001b[1;32m   6201\u001b[0m             \u001b[0;32mand\u001b[0m \u001b[0mself\u001b[0m\u001b[0;34m.\u001b[0m\u001b[0m_info_axis\u001b[0m\u001b[0;34m.\u001b[0m\u001b[0m_can_hold_identifiers_and_holds_name\u001b[0m\u001b[0;34m(\u001b[0m\u001b[0mname\u001b[0m\u001b[0;34m)\u001b[0m\u001b[0;34m\u001b[0m\u001b[0;34m\u001b[0m\u001b[0m\n\u001b[1;32m   6202\u001b[0m         ):\n\u001b[1;32m   6203\u001b[0m             \u001b[0;32mreturn\u001b[0m \u001b[0mself\u001b[0m\u001b[0;34m[\u001b[0m\u001b[0mname\u001b[0m\u001b[0;34m]\u001b[0m\u001b[0;34m\u001b[0m\u001b[0;34m\u001b[0m\u001b[0m\n\u001b[0;32m-> 6204\u001b[0;31m         \u001b[0;32mreturn\u001b[0m \u001b[0mobject\u001b[0m\u001b[0;34m.\u001b[0m\u001b[0m__getattribute__\u001b[0m\u001b[0;34m(\u001b[0m\u001b[0mself\u001b[0m\u001b[0;34m,\u001b[0m \u001b[0mname\u001b[0m\u001b[0;34m)\u001b[0m\u001b[0;34m\u001b[0m\u001b[0;34m\u001b[0m\u001b[0m\n\u001b[0m",
      "\u001b[0;31mAttributeError\u001b[0m: 'DataFrame' object has no attribute 'sort_intex'"
     ]
    }
   ],
   "source": [
    "plot_audit_colors(AuditHistory,'f763999191217e9945b26d312d0902d5','3c4d48ad7d892bfe96a6df0fabe6deaa')"
   ]
  },
  {
   "cell_type": "markdown",
   "metadata": {},
   "source": [
    "### 2.1.2 _SupplierPerformance_ dataset"
   ]
  },
  {
   "cell_type": "code",
   "execution_count": null,
   "metadata": {},
   "outputs": [],
   "source": [
    "SupplierPerformance.head()"
   ]
  },
  {
   "cell_type": "code",
   "execution_count": null,
   "metadata": {},
   "outputs": [],
   "source": [
    "SupplierPerformance.describe(include='all')"
   ]
  },
  {
   "cell_type": "code",
   "execution_count": null,
   "metadata": {},
   "outputs": [],
   "source": [
    "SupplierPerformance.info()"
   ]
  },
  {
   "cell_type": "markdown",
   "metadata": {},
   "source": [
    "This dataset comprises 8 columns and 5823 entries. Here, most features, except for _BadSupplierIndicator_, consist of numeric data. Here are some details:\n",
    "\n",
    "- Suppliers exhibit a significantly higher number of backlogs than wrong deliveries.\n",
    "\n",
    "<br><div style=\"text-align: justify\"> \n",
    "Two columns have missing data: *12_Month_LPKM* with 325 missing values and _BadSupplierIndicator_ with 5491 missing values. Upon closer inspection of the latter, we find that this column is encoded with 'bad' for suppliers with previous poor performance and nothing for all others. Therefore, one-hot encoding this column with 1 for poor performance and 0 for all others will resolve this issue.\n",
    "</div> \n",
    "\n",
    "<br><div style=\"text-align: justify\"> \n",
    "Another important detail is that this table has 5823 entries, each corresponding to a different supplier. In the _AuditHistory_ dataset, there are only 818 suppliers, indicating that most of the suppliers in this dataset lack audit data. These suppliers will be discarded, as there is not sufficient data to incorporate them into the model.\n",
    "</div> "
   ]
  },
  {
   "cell_type": "code",
   "execution_count": null,
   "metadata": {},
   "outputs": [],
   "source": [
    "SupplierPerformance['BadSupplierIndicator']=SupplierPerformance['BadSupplierIndicator'].fillna(0).map({'bad':1,0:0})\n",
    "SupplierPerformance = SupplierPerformance[SupplierPerformance.index.isin(Suppliers)]"
   ]
  },
  {
   "cell_type": "markdown",
   "metadata": {},
   "source": [
    "## 2.2 Distribution Analysis\n",
    "\n",
    "The next stage of dataset exploration involves conducting a distribution analysis. This analysis aims to provide insights into the distribution patterns of both numeric and categorical features."
   ]
  },
  {
   "cell_type": "markdown",
   "metadata": {},
   "source": [
    "### 2.2.1 _AuditHistory_ dataset"
   ]
  },
  {
   "cell_type": "code",
   "execution_count": null,
   "metadata": {},
   "outputs": [],
   "source": [
    "cols = list(AuditHistory.columns)[1:]\n",
    "col_name = cols[5]\n",
    "plot_categorical_distribution(col_name)"
   ]
  },
  {
   "cell_type": "markdown",
   "metadata": {},
   "source": [
    "Some relevant insights of the features:\n",
    "\n",
    "- The number of observations exhibits a growing trend from February 2022 to October 2022, indicating an increasing volume over time.\n",
    "- The majority of derivatives are sourced from Europe, with South Africa contributing only a minimal number of units.\n",
    "- Among production lines, LC stands out with the highest number of observations, exceeding 2500, while LG has a comparatively lower count, with around 1250 observations.\n",
    "- In Phase T1, the majority of observations have green qualifications, with very few instances of yellow and red qualifications. In Phase T2, there is also a predominance of green qualifications, but unlike T1, T2 has a notable number of empty observations, along with very few yellow and red qualifications. Moving to Phase T3, the number of green observations is lower (around 4200), accompanied by a significant number of empty observations (approximately 3100). The occurrences of yellow and red qualifications are still relatively higher compared to T1 and T2."
   ]
  },
  {
   "cell_type": "markdown",
   "metadata": {},
   "source": [
    "### 2.2.2 _SupplierPerformance_ dataset"
   ]
  },
  {
   "cell_type": "code",
   "execution_count": null,
   "metadata": {},
   "outputs": [],
   "source": [
    "cols = list(SupplierPerformance.columns)\n",
    "col_name = cols[7]\n",
    "plot_numerical_distribution(col_name)"
   ]
  },
  {
   "cell_type": "markdown",
   "metadata": {},
   "source": [
    "Some relevant insights of the features:\n",
    "\n",
    "- The difference between the amount of wrong deliveries and the backlogs is displayed with the histogram. \n"
   ]
  },
  {
   "cell_type": "markdown",
   "metadata": {},
   "source": [
    "## 2.3 Correlation"
   ]
  },
  {
   "cell_type": "markdown",
   "metadata": {},
   "source": [
    "### 2.3.1 _AuditHistory_ dataset"
   ]
  },
  {
   "cell_type": "markdown",
   "metadata": {},
   "source": [
    "### 2.3.2 _SupplierPerformance_ dataset"
   ]
  },
  {
   "cell_type": "markdown",
   "metadata": {},
   "source": [
    "## 2.4 Box Plots"
   ]
  },
  {
   "cell_type": "markdown",
   "metadata": {},
   "source": [
    "### 2.4.1 _AuditHistory_ dataset"
   ]
  },
  {
   "cell_type": "markdown",
   "metadata": {},
   "source": [
    "### 2.4.2 _SupplierPerformance_ dataset"
   ]
  },
  {
   "cell_type": "markdown",
   "metadata": {},
   "source": [
    "## 2.5 Missing Values"
   ]
  },
  {
   "cell_type": "markdown",
   "metadata": {},
   "source": [
    "### 2.5.1 _AuditHistory_ dataset"
   ]
  },
  {
   "cell_type": "markdown",
   "metadata": {},
   "source": [
    "### 2.5.2 _SupplierPerformance_ dataset"
   ]
  },
  {
   "cell_type": "markdown",
   "metadata": {},
   "source": [
    "## 2.6 Outlier Detection"
   ]
  },
  {
   "cell_type": "markdown",
   "metadata": {},
   "source": [
    "### 2.6.1 _AuditHistory_ dataset"
   ]
  },
  {
   "cell_type": "markdown",
   "metadata": {},
   "source": [
    "### 2.6.2 _SupplierPerformance_ dataset"
   ]
  },
  {
   "cell_type": "markdown",
   "metadata": {},
   "source": [
    "## 2.7 Assumptions\n",
    "\n",
    "1. The _AuditHistory_ and _SupplierPerformance_ datasets are chronologically linked. This implies that the three, six, and 12-month markers in the latter dataset correspond to the respective preceding three, six, and 12 months relative to the latest audit date."
   ]
  },
  {
   "cell_type": "markdown",
   "metadata": {},
   "source": [
    "# 3.Preprocessing the Data\n",
    "\n",
    "The initial data processing steps involve assigning numerical values to categorical features, such as _DerivativeRegion_ and _ProductionLine_. Additionally, the _RecentTimeStamp_ column will be removed, as _RecentMonth_ provides a more concise representation of the time observation."
   ]
  },
  {
   "cell_type": "code",
   "execution_count": null,
   "metadata": {},
   "outputs": [],
   "source": [
    "AuditHistory,encoding = code_categorical_columns(AuditHistory,['DerivativeRegion','ProductionLine','T1Color','T2Color','T3Color','Result'])\n",
    "AuditHistory.drop(labels='RecentTimeStamp',axis=1,inplace=True)\n",
    "AuditHistory.head()"
   ]
  },
  {
   "cell_type": "markdown",
   "metadata": {},
   "source": [
    "My first approach is to build a Machine Learning algorithm for each stage (T1, T2 and T3). Each of the algorithms should be able to predict the qualification for that stage. Having the prediction of the three algorithms, the result can be obtained as the qualification of the latest audit stage.\n",
    "\n",
    "\n",
    "\n",
    "Therefore, the idea is to build a dataset that has observations with information about both suppliers and derivatives. Another relevant aspect to consider is that the _AuditHistory_ dataset contains time series as it is indexed in time. Then, particular observations of this table must be placed correctly in time. \n",
    "\n",
    "Then, this model should work for any of the 5823 suppliers in the _SupplierPerformance_ dataset. Therefore, feature engineering will be critical to gather all the relevant information. For any supplier - Derivative combination, there is _DerivativeRegion_ and _ProductionLine_ information.  "
   ]
  },
  {
   "cell_type": "markdown",
   "metadata": {},
   "source": [
    "To sumarize, the predictors of the result of an audit for a given supplier and a given derivative are:\n",
    "\n",
    "1. DerivativeRegion\n",
    "2. ProductionLine\n",
    "3. Latest T1 qualification\n",
    "4. Time since last T1 change\n",
    "5. Latest T2 qualification\n",
    "6. Time since last T2 change\n",
    "7. Latest T3 qualification\n",
    "8. Time since last T2 change\n",
    "9. Time since last audit\n",
    "10. Wrong orders in the last 3 months\n",
    "11. 12 Month LPKM\n",
    "12. BadSupplierIndicator"
   ]
  },
  {
   "cell_type": "markdown",
   "metadata": {},
   "source": [
    "# 4.Predictor Selection"
   ]
  },
  {
   "cell_type": "markdown",
   "metadata": {},
   "source": [
    "# 5.Best Model Selection"
   ]
  },
  {
   "cell_type": "markdown",
   "metadata": {},
   "source": [
    "# 6.Prediction for Audit Results"
   ]
  },
  {
   "cell_type": "markdown",
   "metadata": {},
   "source": [
    "# 7.Business Recomendations"
   ]
  },
  {
   "cell_type": "markdown",
   "metadata": {},
   "source": [
    "# 8.Model Maintenance"
   ]
  },
  {
   "cell_type": "markdown",
   "metadata": {},
   "source": [
    "### 9. Additional Ideas\n",
    "\n",
    "Throughout the course of this project, several ideas emerged that, unfortunately, I couldn't fully explore due to time constraints. Nevertheless, I would like to present them:\n",
    "\n",
    "1. Supplier Clustering: Given the abundance of suppliers without audit records, their information was excluded from the primary analysis. However, there is an opportunity for further investigation. For instance, employing a clustering algorithm could group these suppliers, allowing the extraction of pertinent features. These features could then be utilized as input for a machine learning classification algorithm."
   ]
  },
  {
   "cell_type": "code",
   "execution_count": null,
   "metadata": {},
   "outputs": [],
   "source": []
  }
 ],
 "metadata": {
  "kernelspec": {
   "display_name": "Python 3",
   "language": "python",
   "name": "python3"
  },
  "language_info": {
   "codemirror_mode": {
    "name": "ipython",
    "version": 3
   },
   "file_extension": ".py",
   "mimetype": "text/x-python",
   "name": "python",
   "nbconvert_exporter": "python",
   "pygments_lexer": "ipython3",
   "version": "3.11.5"
  },
  "orig_nbformat": 4
 },
 "nbformat": 4,
 "nbformat_minor": 2
}
