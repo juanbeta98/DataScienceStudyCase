{
 "cells": [
  {
   "cell_type": "code",
   "execution_count": 1,
   "metadata": {},
   "outputs": [],
   "source": [
    "from source import *\n",
    "import ipywidgets as widgets\n",
    "from ipywidgets import interact, interactive, fixed, interact_manual\n",
    "import warnings; warnings.filterwarnings('ignore')"
   ]
  },
  {
   "cell_type": "markdown",
   "metadata": {},
   "source": [
    "# Data Science Case Study: Supplier Audit Results Prediction\n",
    "\n",
    "by: Juan Betancourt\n",
    "\n",
    "juan.beta98@gmail.com"
   ]
  },
  {
   "cell_type": "markdown",
   "metadata": {},
   "source": [
    "# Contents\n",
    "\n",
    "1. Brief Case Study Description\n",
    "\n",
    "2. Data Exploration and Assumptions Formulation\n",
    "\n",
    "3. Preprocessing the Data\n",
    "\n",
    "4. Predictor Selection\n",
    "\n",
    "5. Best Model Selection\n",
    "\n",
    "6. Prediction for Audit Results\n",
    "\n",
    "7. Business Recomendations\n",
    "\n",
    "8. Model Maintenance\n",
    "\n",
    "9. Additional Ideas"
   ]
  },
  {
   "cell_type": "markdown",
   "metadata": {},
   "source": [
    "# 1.Brief Case Study Description\n",
    "\n",
    "\n",
    "<br><div style=\"text-align: justify\"> \n",
    "Managing suppliers is a critical aspect of the operational efficiency of any manufacturing company. Issues such as irregular lead times, backlogs, and incorrect orders can significantly disrupt manufacturing schedules, increase costs, and ultimately impact the service level provided to customers. In the context of this case study, our focus is on predicting the outcome of audits for a specific supplier and derivative combination.\n",
    "</div> \n",
    "\n",
    "<br><div style=\"text-align: justify\"> \n",
    "The process involves three stages: T1, T2, and T3. The goal is to forecast the most recent qualification status for a given supplier and derivative in their final audit stage. To achieve this objective, we have access to two datasets. The first dataset comprises essential information regarding the audit history of suppliers and the derivatives under their management. The second dataset provides diverse metrics related to the performance of suppliers.\n",
    "</div> "
   ]
  },
  {
   "cell_type": "markdown",
   "metadata": {},
   "source": [
    "# 2.Data Exploration"
   ]
  },
  {
   "cell_type": "markdown",
   "metadata": {},
   "source": [
    "## 2.1 Initial Exploration\n",
    "\n",
    "The initial stage of data exploration involves obtaining a comprehensive overview of the datasets. This includes understanding the structure, content, and key characteristics of the available data."
   ]
  },
  {
   "cell_type": "markdown",
   "metadata": {},
   "source": [
    "### 2.1.1 _AuditHistory_ dataset"
   ]
  },
  {
   "cell_type": "code",
   "execution_count": 2,
   "metadata": {},
   "outputs": [
    {
     "data": {
      "text/html": [
       "<div>\n",
       "<style scoped>\n",
       "    .dataframe tbody tr th:only-of-type {\n",
       "        vertical-align: middle;\n",
       "    }\n",
       "\n",
       "    .dataframe tbody tr th {\n",
       "        vertical-align: top;\n",
       "    }\n",
       "\n",
       "    .dataframe thead th {\n",
       "        text-align: right;\n",
       "    }\n",
       "</style>\n",
       "<table border=\"1\" class=\"dataframe\">\n",
       "  <thead>\n",
       "    <tr style=\"text-align: right;\">\n",
       "      <th></th>\n",
       "      <th>SupplierId</th>\n",
       "      <th>RecentMonth</th>\n",
       "      <th>RecentTimeStamp</th>\n",
       "      <th>DerivativeName</th>\n",
       "      <th>DerivativeRegion</th>\n",
       "      <th>ProductionLine</th>\n",
       "      <th>T1Color</th>\n",
       "      <th>T2Color</th>\n",
       "      <th>T3Color</th>\n",
       "      <th>Result</th>\n",
       "    </tr>\n",
       "  </thead>\n",
       "  <tbody>\n",
       "    <tr>\n",
       "      <th>0</th>\n",
       "      <td>f763999191217e9945b26d312d0902d5</td>\n",
       "      <td>2022-06</td>\n",
       "      <td>2022-06-30T10:01:20Z</td>\n",
       "      <td>3c4d48ad7d892bfe96a6df0fabe6deaa</td>\n",
       "      <td>Asia</td>\n",
       "      <td>LU</td>\n",
       "      <td>Green</td>\n",
       "      <td>Green</td>\n",
       "      <td>-</td>\n",
       "      <td>Green</td>\n",
       "    </tr>\n",
       "    <tr>\n",
       "      <th>1</th>\n",
       "      <td>377c62276b7dd74e406ac5de3c872110</td>\n",
       "      <td>2022-09</td>\n",
       "      <td>2022-09-28T07:00:46Z</td>\n",
       "      <td>2dc5fe1b4f8895bb1096f6470b7d8550</td>\n",
       "      <td>Europe</td>\n",
       "      <td>LG</td>\n",
       "      <td>Green</td>\n",
       "      <td>Green</td>\n",
       "      <td>Green</td>\n",
       "      <td>Green</td>\n",
       "    </tr>\n",
       "    <tr>\n",
       "      <th>2</th>\n",
       "      <td>20beb9edfc8536f19109a15b5ce1a845</td>\n",
       "      <td>2022-09</td>\n",
       "      <td>2022-09-28T07:00:46Z</td>\n",
       "      <td>9c491ff90cbfc2882aa1116944658240</td>\n",
       "      <td>Europe</td>\n",
       "      <td>LC</td>\n",
       "      <td>Green</td>\n",
       "      <td>Green</td>\n",
       "      <td>Green</td>\n",
       "      <td>Green</td>\n",
       "    </tr>\n",
       "    <tr>\n",
       "      <th>3</th>\n",
       "      <td>d0ae2fdd6681f6f99469af4f1ede3928</td>\n",
       "      <td>2022-10</td>\n",
       "      <td>2022-10-31T11:01:25Z</td>\n",
       "      <td>3724c242924ad7b7871634355d6ee63e</td>\n",
       "      <td>USA</td>\n",
       "      <td>LC</td>\n",
       "      <td>Green</td>\n",
       "      <td>Green</td>\n",
       "      <td>Green</td>\n",
       "      <td>Green</td>\n",
       "    </tr>\n",
       "    <tr>\n",
       "      <th>4</th>\n",
       "      <td>4668950356774590b25d92473b8756d9</td>\n",
       "      <td>2022-02</td>\n",
       "      <td>2022-02-28T11:01:17Z</td>\n",
       "      <td>99904aba55dd386296e5925bac70abe0</td>\n",
       "      <td>Europe</td>\n",
       "      <td>LU</td>\n",
       "      <td>Green</td>\n",
       "      <td>Red</td>\n",
       "      <td>-</td>\n",
       "      <td>Red</td>\n",
       "    </tr>\n",
       "  </tbody>\n",
       "</table>\n",
       "</div>"
      ],
      "text/plain": [
       "                         SupplierId RecentMonth       RecentTimeStamp  \\\n",
       "0  f763999191217e9945b26d312d0902d5     2022-06  2022-06-30T10:01:20Z   \n",
       "1  377c62276b7dd74e406ac5de3c872110     2022-09  2022-09-28T07:00:46Z   \n",
       "2  20beb9edfc8536f19109a15b5ce1a845     2022-09  2022-09-28T07:00:46Z   \n",
       "3  d0ae2fdd6681f6f99469af4f1ede3928     2022-10  2022-10-31T11:01:25Z   \n",
       "4  4668950356774590b25d92473b8756d9     2022-02  2022-02-28T11:01:17Z   \n",
       "\n",
       "                     DerivativeName DerivativeRegion ProductionLine T1Color  \\\n",
       "0  3c4d48ad7d892bfe96a6df0fabe6deaa             Asia             LU   Green   \n",
       "1  2dc5fe1b4f8895bb1096f6470b7d8550           Europe             LG   Green   \n",
       "2  9c491ff90cbfc2882aa1116944658240           Europe             LC   Green   \n",
       "3  3724c242924ad7b7871634355d6ee63e              USA             LC   Green   \n",
       "4  99904aba55dd386296e5925bac70abe0           Europe             LU   Green   \n",
       "\n",
       "  T2Color T3Color Result  \n",
       "0   Green       -  Green  \n",
       "1   Green   Green  Green  \n",
       "2   Green   Green  Green  \n",
       "3   Green   Green  Green  \n",
       "4     Red       -    Red  "
      ]
     },
     "execution_count": 2,
     "metadata": {},
     "output_type": "execute_result"
    }
   ],
   "source": [
    "AuditHistory.head()"
   ]
  },
  {
   "cell_type": "code",
   "execution_count": 3,
   "metadata": {},
   "outputs": [
    {
     "data": {
      "text/html": [
       "<div>\n",
       "<style scoped>\n",
       "    .dataframe tbody tr th:only-of-type {\n",
       "        vertical-align: middle;\n",
       "    }\n",
       "\n",
       "    .dataframe tbody tr th {\n",
       "        vertical-align: top;\n",
       "    }\n",
       "\n",
       "    .dataframe thead th {\n",
       "        text-align: right;\n",
       "    }\n",
       "</style>\n",
       "<table border=\"1\" class=\"dataframe\">\n",
       "  <thead>\n",
       "    <tr style=\"text-align: right;\">\n",
       "      <th></th>\n",
       "      <th>SupplierId</th>\n",
       "      <th>RecentMonth</th>\n",
       "      <th>RecentTimeStamp</th>\n",
       "      <th>DerivativeName</th>\n",
       "      <th>DerivativeRegion</th>\n",
       "      <th>ProductionLine</th>\n",
       "      <th>T1Color</th>\n",
       "      <th>T2Color</th>\n",
       "      <th>T3Color</th>\n",
       "      <th>Result</th>\n",
       "    </tr>\n",
       "  </thead>\n",
       "  <tbody>\n",
       "    <tr>\n",
       "      <th>count</th>\n",
       "      <td>7690</td>\n",
       "      <td>7690</td>\n",
       "      <td>7690</td>\n",
       "      <td>7690</td>\n",
       "      <td>7547</td>\n",
       "      <td>7690</td>\n",
       "      <td>7690</td>\n",
       "      <td>7690</td>\n",
       "      <td>7690</td>\n",
       "      <td>7690</td>\n",
       "    </tr>\n",
       "    <tr>\n",
       "      <th>unique</th>\n",
       "      <td>818</td>\n",
       "      <td>9</td>\n",
       "      <td>9</td>\n",
       "      <td>75</td>\n",
       "      <td>5</td>\n",
       "      <td>4</td>\n",
       "      <td>3</td>\n",
       "      <td>4</td>\n",
       "      <td>4</td>\n",
       "      <td>3</td>\n",
       "    </tr>\n",
       "    <tr>\n",
       "      <th>top</th>\n",
       "      <td>4600f0a901054216cf0eecf2999f7eb2</td>\n",
       "      <td>2022-10</td>\n",
       "      <td>2022-10-31T11:01:25Z</td>\n",
       "      <td>9c491ff90cbfc2882aa1116944658240</td>\n",
       "      <td>Europe</td>\n",
       "      <td>LC</td>\n",
       "      <td>Green</td>\n",
       "      <td>Green</td>\n",
       "      <td>Green</td>\n",
       "      <td>Green</td>\n",
       "    </tr>\n",
       "    <tr>\n",
       "      <th>freq</th>\n",
       "      <td>36</td>\n",
       "      <td>989</td>\n",
       "      <td>989</td>\n",
       "      <td>760</td>\n",
       "      <td>3643</td>\n",
       "      <td>2737</td>\n",
       "      <td>7417</td>\n",
       "      <td>5499</td>\n",
       "      <td>4178</td>\n",
       "      <td>6797</td>\n",
       "    </tr>\n",
       "  </tbody>\n",
       "</table>\n",
       "</div>"
      ],
      "text/plain": [
       "                              SupplierId RecentMonth       RecentTimeStamp  \\\n",
       "count                               7690        7690                  7690   \n",
       "unique                               818           9                     9   \n",
       "top     4600f0a901054216cf0eecf2999f7eb2     2022-10  2022-10-31T11:01:25Z   \n",
       "freq                                  36         989                   989   \n",
       "\n",
       "                          DerivativeName DerivativeRegion ProductionLine  \\\n",
       "count                               7690             7547           7690   \n",
       "unique                                75                5              4   \n",
       "top     9c491ff90cbfc2882aa1116944658240           Europe             LC   \n",
       "freq                                 760             3643           2737   \n",
       "\n",
       "       T1Color T2Color T3Color Result  \n",
       "count     7690    7690    7690   7690  \n",
       "unique       3       4       4      3  \n",
       "top      Green   Green   Green  Green  \n",
       "freq      7417    5499    4178   6797  "
      ]
     },
     "execution_count": 3,
     "metadata": {},
     "output_type": "execute_result"
    }
   ],
   "source": [
    "AuditHistory.describe()"
   ]
  },
  {
   "cell_type": "code",
   "execution_count": 4,
   "metadata": {},
   "outputs": [
    {
     "name": "stdout",
     "output_type": "stream",
     "text": [
      "<class 'pandas.core.frame.DataFrame'>\n",
      "RangeIndex: 7690 entries, 0 to 7689\n",
      "Data columns (total 10 columns):\n",
      " #   Column            Non-Null Count  Dtype \n",
      "---  ------            --------------  ----- \n",
      " 0   SupplierId        7690 non-null   object\n",
      " 1   RecentMonth       7690 non-null   object\n",
      " 2   RecentTimeStamp   7690 non-null   object\n",
      " 3   DerivativeName    7690 non-null   object\n",
      " 4   DerivativeRegion  7547 non-null   object\n",
      " 5   ProductionLine    7690 non-null   object\n",
      " 6   T1Color           7690 non-null   object\n",
      " 7   T2Color           7690 non-null   object\n",
      " 8   T3Color           7690 non-null   object\n",
      " 9   Result            7690 non-null   object\n",
      "dtypes: object(10)\n",
      "memory usage: 600.9+ KB\n"
     ]
    }
   ],
   "source": [
    "AuditHistory.info()"
   ]
  },
  {
   "cell_type": "markdown",
   "metadata": {},
   "source": [
    "This dataset has 10 columns and 7690 entries. As there are various categorical features, here are some details:\n",
    "\n",
    "- The dataset covers a time interval of 9 different months.\n",
    "- A total of 818 suppliers, 75 derivatives, five (5) regions, and four (4) production lines are registered.\n",
    "\n",
    "The only column with missing values is the _derivative region_ with 143 missing values."
   ]
  },
  {
   "cell_type": "code",
   "execution_count": 5,
   "metadata": {},
   "outputs": [
    {
     "data": {
      "image/png": "[encoded data removed]",
      "text/plain": [
       "<Figure size 1200x600 with 1 Axes>"
      ]
     },
     "metadata": {},
     "output_type": "display_data"
    }
   ],
   "source": [
    "plot_audit_colors(AuditHistory,'377c62276b7dd74e406ac5de3c872110','2dc5fe1b4f8895bb1096f6470b7d8550')"
   ]
  },
  {
   "cell_type": "markdown",
   "metadata": {},
   "source": [
    "### 2.1.2 _SupplierPerformance_ dataset"
   ]
  },
  {
   "cell_type": "code",
   "execution_count": 6,
   "metadata": {},
   "outputs": [
    {
     "data": {
      "text/html": [
       "<div>\n",
       "<style scoped>\n",
       "    .dataframe tbody tr th:only-of-type {\n",
       "        vertical-align: middle;\n",
       "    }\n",
       "\n",
       "    .dataframe tbody tr th {\n",
       "        vertical-align: top;\n",
       "    }\n",
       "\n",
       "    .dataframe thead th {\n",
       "        text-align: right;\n",
       "    }\n",
       "</style>\n",
       "<table border=\"1\" class=\"dataframe\">\n",
       "  <thead>\n",
       "    <tr style=\"text-align: right;\">\n",
       "      <th></th>\n",
       "      <th>Amount_WD_3M</th>\n",
       "      <th>Amount_WD_6M</th>\n",
       "      <th>Amount_WD_12M</th>\n",
       "      <th>Amount_Backlogs_3M</th>\n",
       "      <th>Amount_Backlogs_6M</th>\n",
       "      <th>Amount_Backlogs_12M</th>\n",
       "      <th>12_Month_LPKM</th>\n",
       "      <th>BadSupplierIndicator</th>\n",
       "    </tr>\n",
       "    <tr>\n",
       "      <th>SupplierId</th>\n",
       "      <th></th>\n",
       "      <th></th>\n",
       "      <th></th>\n",
       "      <th></th>\n",
       "      <th></th>\n",
       "      <th></th>\n",
       "      <th></th>\n",
       "      <th></th>\n",
       "    </tr>\n",
       "  </thead>\n",
       "  <tbody>\n",
       "    <tr>\n",
       "      <th>68586a014afa6b343289dc017a95816e</th>\n",
       "      <td>0</td>\n",
       "      <td>0</td>\n",
       "      <td>0</td>\n",
       "      <td>0</td>\n",
       "      <td>0</td>\n",
       "      <td>0</td>\n",
       "      <td>5.0</td>\n",
       "      <td>NaN</td>\n",
       "    </tr>\n",
       "    <tr>\n",
       "      <th>075c37dc9fcacb082ef1bd4a3dae0c11</th>\n",
       "      <td>0</td>\n",
       "      <td>0</td>\n",
       "      <td>0</td>\n",
       "      <td>0</td>\n",
       "      <td>0</td>\n",
       "      <td>0</td>\n",
       "      <td>5.0</td>\n",
       "      <td>NaN</td>\n",
       "    </tr>\n",
       "    <tr>\n",
       "      <th>f9174001e40db58b4c1e21dd2de38536</th>\n",
       "      <td>0</td>\n",
       "      <td>0</td>\n",
       "      <td>0</td>\n",
       "      <td>0</td>\n",
       "      <td>0</td>\n",
       "      <td>0</td>\n",
       "      <td>5.0</td>\n",
       "      <td>NaN</td>\n",
       "    </tr>\n",
       "    <tr>\n",
       "      <th>557b239e840c24ed9592ed3ceb13326f</th>\n",
       "      <td>0</td>\n",
       "      <td>0</td>\n",
       "      <td>0</td>\n",
       "      <td>13</td>\n",
       "      <td>30</td>\n",
       "      <td>57</td>\n",
       "      <td>3.9</td>\n",
       "      <td>NaN</td>\n",
       "    </tr>\n",
       "    <tr>\n",
       "      <th>d74b6825c6a9283c834e713798bd0ccc</th>\n",
       "      <td>0</td>\n",
       "      <td>0</td>\n",
       "      <td>0</td>\n",
       "      <td>0</td>\n",
       "      <td>0</td>\n",
       "      <td>0</td>\n",
       "      <td>5.0</td>\n",
       "      <td>NaN</td>\n",
       "    </tr>\n",
       "  </tbody>\n",
       "</table>\n",
       "</div>"
      ],
      "text/plain": [
       "                                  Amount_WD_3M  Amount_WD_6M  Amount_WD_12M  \\\n",
       "SupplierId                                                                    \n",
       "68586a014afa6b343289dc017a95816e             0             0              0   \n",
       "075c37dc9fcacb082ef1bd4a3dae0c11             0             0              0   \n",
       "f9174001e40db58b4c1e21dd2de38536             0             0              0   \n",
       "557b239e840c24ed9592ed3ceb13326f             0             0              0   \n",
       "d74b6825c6a9283c834e713798bd0ccc             0             0              0   \n",
       "\n",
       "                                  Amount_Backlogs_3M  Amount_Backlogs_6M  \\\n",
       "SupplierId                                                                 \n",
       "68586a014afa6b343289dc017a95816e                   0                   0   \n",
       "075c37dc9fcacb082ef1bd4a3dae0c11                   0                   0   \n",
       "f9174001e40db58b4c1e21dd2de38536                   0                   0   \n",
       "557b239e840c24ed9592ed3ceb13326f                  13                  30   \n",
       "d74b6825c6a9283c834e713798bd0ccc                   0                   0   \n",
       "\n",
       "                                  Amount_Backlogs_12M  12_Month_LPKM  \\\n",
       "SupplierId                                                             \n",
       "68586a014afa6b343289dc017a95816e                    0            5.0   \n",
       "075c37dc9fcacb082ef1bd4a3dae0c11                    0            5.0   \n",
       "f9174001e40db58b4c1e21dd2de38536                    0            5.0   \n",
       "557b239e840c24ed9592ed3ceb13326f                   57            3.9   \n",
       "d74b6825c6a9283c834e713798bd0ccc                    0            5.0   \n",
       "\n",
       "                                 BadSupplierIndicator  \n",
       "SupplierId                                             \n",
       "68586a014afa6b343289dc017a95816e                  NaN  \n",
       "075c37dc9fcacb082ef1bd4a3dae0c11                  NaN  \n",
       "f9174001e40db58b4c1e21dd2de38536                  NaN  \n",
       "557b239e840c24ed9592ed3ceb13326f                  NaN  \n",
       "d74b6825c6a9283c834e713798bd0ccc                  NaN  "
      ]
     },
     "execution_count": 6,
     "metadata": {},
     "output_type": "execute_result"
    }
   ],
   "source": [
    "SupplierPerformance.head()"
   ]
  },
  {
   "cell_type": "code",
   "execution_count": 7,
   "metadata": {},
   "outputs": [
    {
     "data": {
      "text/html": [
       "<div>\n",
       "<style scoped>\n",
       "    .dataframe tbody tr th:only-of-type {\n",
       "        vertical-align: middle;\n",
       "    }\n",
       "\n",
       "    .dataframe tbody tr th {\n",
       "        vertical-align: top;\n",
       "    }\n",
       "\n",
       "    .dataframe thead th {\n",
       "        text-align: right;\n",
       "    }\n",
       "</style>\n",
       "<table border=\"1\" class=\"dataframe\">\n",
       "  <thead>\n",
       "    <tr style=\"text-align: right;\">\n",
       "      <th></th>\n",
       "      <th>Amount_WD_3M</th>\n",
       "      <th>Amount_WD_6M</th>\n",
       "      <th>Amount_WD_12M</th>\n",
       "      <th>Amount_Backlogs_3M</th>\n",
       "      <th>Amount_Backlogs_6M</th>\n",
       "      <th>Amount_Backlogs_12M</th>\n",
       "      <th>12_Month_LPKM</th>\n",
       "      <th>BadSupplierIndicator</th>\n",
       "    </tr>\n",
       "  </thead>\n",
       "  <tbody>\n",
       "    <tr>\n",
       "      <th>count</th>\n",
       "      <td>5823.000000</td>\n",
       "      <td>5823.000000</td>\n",
       "      <td>5823.000000</td>\n",
       "      <td>5823.000000</td>\n",
       "      <td>5823.000000</td>\n",
       "      <td>5823.000000</td>\n",
       "      <td>5498.000000</td>\n",
       "      <td>332</td>\n",
       "    </tr>\n",
       "    <tr>\n",
       "      <th>unique</th>\n",
       "      <td>NaN</td>\n",
       "      <td>NaN</td>\n",
       "      <td>NaN</td>\n",
       "      <td>NaN</td>\n",
       "      <td>NaN</td>\n",
       "      <td>NaN</td>\n",
       "      <td>NaN</td>\n",
       "      <td>1</td>\n",
       "    </tr>\n",
       "    <tr>\n",
       "      <th>top</th>\n",
       "      <td>NaN</td>\n",
       "      <td>NaN</td>\n",
       "      <td>NaN</td>\n",
       "      <td>NaN</td>\n",
       "      <td>NaN</td>\n",
       "      <td>NaN</td>\n",
       "      <td>NaN</td>\n",
       "      <td>bad</td>\n",
       "    </tr>\n",
       "    <tr>\n",
       "      <th>freq</th>\n",
       "      <td>NaN</td>\n",
       "      <td>NaN</td>\n",
       "      <td>NaN</td>\n",
       "      <td>NaN</td>\n",
       "      <td>NaN</td>\n",
       "      <td>NaN</td>\n",
       "      <td>NaN</td>\n",
       "      <td>332</td>\n",
       "    </tr>\n",
       "    <tr>\n",
       "      <th>mean</th>\n",
       "      <td>0.169329</td>\n",
       "      <td>0.425897</td>\n",
       "      <td>0.893697</td>\n",
       "      <td>2.150781</td>\n",
       "      <td>4.103555</td>\n",
       "      <td>7.386227</td>\n",
       "      <td>4.576155</td>\n",
       "      <td>NaN</td>\n",
       "    </tr>\n",
       "    <tr>\n",
       "      <th>std</th>\n",
       "      <td>0.810342</td>\n",
       "      <td>1.668909</td>\n",
       "      <td>3.228480</td>\n",
       "      <td>6.897040</td>\n",
       "      <td>12.144191</td>\n",
       "      <td>20.716048</td>\n",
       "      <td>0.578818</td>\n",
       "      <td>NaN</td>\n",
       "    </tr>\n",
       "    <tr>\n",
       "      <th>min</th>\n",
       "      <td>0.000000</td>\n",
       "      <td>0.000000</td>\n",
       "      <td>0.000000</td>\n",
       "      <td>0.000000</td>\n",
       "      <td>0.000000</td>\n",
       "      <td>0.000000</td>\n",
       "      <td>1.000000</td>\n",
       "      <td>NaN</td>\n",
       "    </tr>\n",
       "    <tr>\n",
       "      <th>25%</th>\n",
       "      <td>0.000000</td>\n",
       "      <td>0.000000</td>\n",
       "      <td>0.000000</td>\n",
       "      <td>0.000000</td>\n",
       "      <td>0.000000</td>\n",
       "      <td>0.000000</td>\n",
       "      <td>4.300000</td>\n",
       "      <td>NaN</td>\n",
       "    </tr>\n",
       "    <tr>\n",
       "      <th>50%</th>\n",
       "      <td>0.000000</td>\n",
       "      <td>0.000000</td>\n",
       "      <td>0.000000</td>\n",
       "      <td>0.000000</td>\n",
       "      <td>0.000000</td>\n",
       "      <td>0.000000</td>\n",
       "      <td>4.800000</td>\n",
       "      <td>NaN</td>\n",
       "    </tr>\n",
       "    <tr>\n",
       "      <th>75%</th>\n",
       "      <td>0.000000</td>\n",
       "      <td>0.000000</td>\n",
       "      <td>0.000000</td>\n",
       "      <td>1.000000</td>\n",
       "      <td>2.000000</td>\n",
       "      <td>5.000000</td>\n",
       "      <td>5.000000</td>\n",
       "      <td>NaN</td>\n",
       "    </tr>\n",
       "    <tr>\n",
       "      <th>max</th>\n",
       "      <td>18.000000</td>\n",
       "      <td>37.000000</td>\n",
       "      <td>76.000000</td>\n",
       "      <td>176.000000</td>\n",
       "      <td>243.000000</td>\n",
       "      <td>385.000000</td>\n",
       "      <td>5.000000</td>\n",
       "      <td>NaN</td>\n",
       "    </tr>\n",
       "  </tbody>\n",
       "</table>\n",
       "</div>"
      ],
      "text/plain": [
       "        Amount_WD_3M  Amount_WD_6M  Amount_WD_12M  Amount_Backlogs_3M  \\\n",
       "count    5823.000000   5823.000000    5823.000000         5823.000000   \n",
       "unique           NaN           NaN            NaN                 NaN   \n",
       "top              NaN           NaN            NaN                 NaN   \n",
       "freq             NaN           NaN            NaN                 NaN   \n",
       "mean        0.169329      0.425897       0.893697            2.150781   \n",
       "std         0.810342      1.668909       3.228480            6.897040   \n",
       "min         0.000000      0.000000       0.000000            0.000000   \n",
       "25%         0.000000      0.000000       0.000000            0.000000   \n",
       "50%         0.000000      0.000000       0.000000            0.000000   \n",
       "75%         0.000000      0.000000       0.000000            1.000000   \n",
       "max        18.000000     37.000000      76.000000          176.000000   \n",
       "\n",
       "        Amount_Backlogs_6M  Amount_Backlogs_12M  12_Month_LPKM  \\\n",
       "count          5823.000000          5823.000000    5498.000000   \n",
       "unique                 NaN                  NaN            NaN   \n",
       "top                    NaN                  NaN            NaN   \n",
       "freq                   NaN                  NaN            NaN   \n",
       "mean              4.103555             7.386227       4.576155   \n",
       "std              12.144191            20.716048       0.578818   \n",
       "min               0.000000             0.000000       1.000000   \n",
       "25%               0.000000             0.000000       4.300000   \n",
       "50%               0.000000             0.000000       4.800000   \n",
       "75%               2.000000             5.000000       5.000000   \n",
       "max             243.000000           385.000000       5.000000   \n",
       "\n",
       "       BadSupplierIndicator  \n",
       "count                   332  \n",
       "unique                    1  \n",
       "top                     bad  \n",
       "freq                    332  \n",
       "mean                    NaN  \n",
       "std                     NaN  \n",
       "min                     NaN  \n",
       "25%                     NaN  \n",
       "50%                     NaN  \n",
       "75%                     NaN  \n",
       "max                     NaN  "
      ]
     },
     "execution_count": 7,
     "metadata": {},
     "output_type": "execute_result"
    }
   ],
   "source": [
    "SupplierPerformance.describe(include='all')"
   ]
  },
  {
   "cell_type": "code",
   "execution_count": 8,
   "metadata": {},
   "outputs": [
    {
     "name": "stdout",
     "output_type": "stream",
     "text": [
      "<class 'pandas.core.frame.DataFrame'>\n",
      "Index: 5823 entries, 68586a014afa6b343289dc017a95816e to e2d0d6a487351b44979611167ba19040\n",
      "Data columns (total 8 columns):\n",
      " #   Column                Non-Null Count  Dtype  \n",
      "---  ------                --------------  -----  \n",
      " 0   Amount_WD_3M          5823 non-null   int64  \n",
      " 1   Amount_WD_6M          5823 non-null   int64  \n",
      " 2   Amount_WD_12M         5823 non-null   int64  \n",
      " 3   Amount_Backlogs_3M    5823 non-null   int64  \n",
      " 4   Amount_Backlogs_6M    5823 non-null   int64  \n",
      " 5   Amount_Backlogs_12M   5823 non-null   int64  \n",
      " 6   12_Month_LPKM         5498 non-null   float64\n",
      " 7   BadSupplierIndicator  332 non-null    object \n",
      "dtypes: float64(1), int64(6), object(1)\n",
      "memory usage: 409.4+ KB\n"
     ]
    }
   ],
   "source": [
    "SupplierPerformance.info()"
   ]
  },
  {
   "cell_type": "markdown",
   "metadata": {},
   "source": [
    "This dataset comprises 8 columns and 5823 entries. Here, most features, except for _BadSupplierIndicator_, consist of numeric data. Here are some details:\n",
    "\n",
    "- Suppliers exhibit a significantly higher number of backlogs than wrong deliveries.\n",
    "\n",
    "<br><div style=\"text-align: justify\"> \n",
    "Two columns have missing data: *12_Month_LPKM* with 325 missing values and _BadSupplierIndicator_ with 5491 missing values. Upon closer inspection of the latter, we find that this column is encoded with 'bad' for suppliers with previous poor performance and nothing for all others. Therefore, one-hot encoding this column with 1 for poor performance and 0 for all others will resolve this issue.\n",
    "</div> \n",
    "\n",
    "<br><div style=\"text-align: justify\"> \n",
    "Another important detail is that this table has 5823 entries, each corresponding to a different supplier. In the _AuditHistory_ dataset, there are only 818 suppliers, indicating that most of the suppliers in this dataset lack audit data. These suppliers will be discarded, as there is not sufficient data to incorporate them into the model.\n",
    "</div> "
   ]
  },
  {
   "cell_type": "code",
   "execution_count": 9,
   "metadata": {},
   "outputs": [],
   "source": [
    "SupplierPerformance['BadSupplierIndicator']=SupplierPerformance['BadSupplierIndicator'].fillna(0).map({'bad':1,0:0})\n",
    "SupplierPerformance = SupplierPerformance[SupplierPerformance.index.isin(Suppliers)]"
   ]
  },
  {
   "cell_type": "markdown",
   "metadata": {},
   "source": [
    "## 2.2 Distribution Analysis\n",
    "\n",
    "The next stage of dataset exploration involves conducting a distribution analysis. This analysis aims to provide insights into the distribution patterns of both numeric and categorical features."
   ]
  },
  {
   "cell_type": "markdown",
   "metadata": {},
   "source": [
    "### 2.2.1 _AuditHistory_ dataset"
   ]
  },
  {
   "cell_type": "code",
   "execution_count": 10,
   "metadata": {},
   "outputs": [
    {
     "data": {
      "image/png": "[encoded data removed]",
      "text/plain": [
       "<Figure size 1000x600 with 1 Axes>"
      ]
     },
     "metadata": {},
     "output_type": "display_data"
    }
   ],
   "source": [
    "cols = list(AuditHistory.columns)[1:]\n",
    "col_name = cols[5]\n",
    "plot_categorical_distribution(col_name)"
   ]
  },
  {
   "cell_type": "markdown",
   "metadata": {},
   "source": [
    "Some relevant insights of the features:\n",
    "<br><div style=\"text-align: justify\"> \n",
    "- The number of observations exhibits a growing trend from February 2022 to October 2022, indicating an increasing volume over time.\n",
    "- The majority of derivatives are sourced from Europe, with South Africa contributing only a minimal number of units.\n",
    "- Among production lines, LC stands out with the highest number of observations, exceeding 2500, while LG has a comparatively lower count, with around 1250 observations.\n",
    "- In Phase T1, the majority of observations have green qualifications, with very few instances of yellow and red qualifications. In Phase T2, there is also a predominance of green qualifications, but unlike T1, T2 has a notable number of empty observations, along with very few yellow and red qualifications. Moving to Phase T3, the number of green observations is lower (around 4200), accompanied by a significant number of empty observations (approximately 3100). The occurrences of yellow and red qualifications are still relatively higher compared to T1 and T2.\n",
    "</div> "
   ]
  },
  {
   "cell_type": "markdown",
   "metadata": {},
   "source": [
    "### 2.2.2 _SupplierPerformance_ dataset"
   ]
  },
  {
   "cell_type": "code",
   "execution_count": 11,
   "metadata": {},
   "outputs": [
    {
     "data": {
      "image/png": "[encoded data removed]",
      "text/plain": [
       "<Figure size 1000x600 with 1 Axes>"
      ]
     },
     "metadata": {},
     "output_type": "display_data"
    }
   ],
   "source": [
    "cols = list(SupplierPerformance.columns)\n",
    "col_name = cols[7]\n",
    "plot_numerical_distribution(col_name)"
   ]
  },
  {
   "cell_type": "markdown",
   "metadata": {},
   "source": [
    "Some relevant insights of the features:\n",
    "\n",
    "- The difference between the amount of wrong deliveries and the backlogs is displayed with the histogram. \n",
    "- Only a small proportion of suppliers have a 'bad' indicator."
   ]
  },
  {
   "cell_type": "markdown",
   "metadata": {},
   "source": [
    "## 2.3 Correlation"
   ]
  },
  {
   "cell_type": "markdown",
   "metadata": {},
   "source": [
    "### 2.3.1 _SupplierPerformance_ dataset"
   ]
  },
  {
   "cell_type": "code",
   "execution_count": 12,
   "metadata": {},
   "outputs": [
    {
     "data": {
      "image/png": "[encoded data removed]",
      "text/plain": [
       "<Figure size 480x480 with 1 Axes>"
      ]
     },
     "metadata": {},
     "output_type": "display_data"
    }
   ],
   "source": [
    "plt.matshow(SupplierPerformance.corr())\n",
    "plt.title('Correlogram'); plt.xlabel('Features');plt.ylabel('Features')\n",
    "plt.show()"
   ]
  },
  {
   "cell_type": "markdown",
   "metadata": {},
   "source": [
    "## 2.4 Missing Values"
   ]
  },
  {
   "cell_type": "markdown",
   "metadata": {},
   "source": [
    "### 2.4.1 _AuditHistory_ dataset"
   ]
  },
  {
   "cell_type": "code",
   "execution_count": 13,
   "metadata": {},
   "outputs": [
    {
     "name": "stdout",
     "output_type": "stream",
     "text": [
      "SupplierId            0\n",
      "RecentMonth           0\n",
      "RecentTimeStamp       0\n",
      "DerivativeName        0\n",
      "DerivativeRegion    143\n",
      "ProductionLine        0\n",
      "T1Color               0\n",
      "T2Color               0\n",
      "T3Color               0\n",
      "Result                0\n",
      "dtype: int64\n"
     ]
    }
   ],
   "source": [
    "Audits_nan_counts = AuditHistory.isna().sum()\n",
    "print(Audits_nan_counts)"
   ]
  },
  {
   "cell_type": "markdown",
   "metadata": {},
   "source": [
    "### 2.4.2 _SupplierPerformance_ dataset"
   ]
  },
  {
   "cell_type": "code",
   "execution_count": 14,
   "metadata": {},
   "outputs": [
    {
     "name": "stdout",
     "output_type": "stream",
     "text": [
      "Amount_WD_3M            0\n",
      "Amount_WD_6M            0\n",
      "Amount_WD_12M           0\n",
      "Amount_Backlogs_3M      0\n",
      "Amount_Backlogs_6M      0\n",
      "Amount_Backlogs_12M     0\n",
      "12_Month_LPKM           6\n",
      "BadSupplierIndicator    0\n",
      "dtype: int64\n"
     ]
    }
   ],
   "source": [
    "Suppliers_nan_counts = SupplierPerformance.isna().sum()\n",
    "print(Suppliers_nan_counts)"
   ]
  },
  {
   "cell_type": "markdown",
   "metadata": {},
   "source": [
    "## 2.5 Assumptions\n",
    "<br><div style=\"text-align: justify\"> \n",
    "1. The _AuditHistory_ and _SupplierPerformance_ datasets are chronologically linked. This implies that the three, six, and 12-month markers in the latter dataset correspond to the respective preceding three, six, and 12 months relative to the latest audit date.\n",
    "\n",
    "2. The _WrongDeliveries_ and _Backorders_ generated in the last 7-12 months (refering to the _SupplierPerformance_ dataset) were uniformly distributed between the two trimesters.\n",
    "</div> "
   ]
  },
  {
   "cell_type": "markdown",
   "metadata": {},
   "source": [
    "# 3.Preprocessing the Data\n",
    "\n",
    "The initial data processing steps involve assigning numerical values to categorical features, such as _DerivativeRegion_ and _ProductionLine_. Additionally, the _RecentTimeStamp_ column will be removed, as _RecentMonth_ provides a more concise representation of the time observation."
   ]
  },
  {
   "cell_type": "code",
   "execution_count": 15,
   "metadata": {},
   "outputs": [
    {
     "data": {
      "text/html": [
       "<div>\n",
       "<style scoped>\n",
       "    .dataframe tbody tr th:only-of-type {\n",
       "        vertical-align: middle;\n",
       "    }\n",
       "\n",
       "    .dataframe tbody tr th {\n",
       "        vertical-align: top;\n",
       "    }\n",
       "\n",
       "    .dataframe thead th {\n",
       "        text-align: right;\n",
       "    }\n",
       "</style>\n",
       "<table border=\"1\" class=\"dataframe\">\n",
       "  <thead>\n",
       "    <tr style=\"text-align: right;\">\n",
       "      <th></th>\n",
       "      <th>SupplierId</th>\n",
       "      <th>RecentMonth</th>\n",
       "      <th>DerivativeName</th>\n",
       "      <th>DerivativeRegion</th>\n",
       "      <th>ProductionLine</th>\n",
       "      <th>T1Color</th>\n",
       "      <th>T2Color</th>\n",
       "      <th>T3Color</th>\n",
       "      <th>Result</th>\n",
       "    </tr>\n",
       "  </thead>\n",
       "  <tbody>\n",
       "    <tr>\n",
       "      <th>0</th>\n",
       "      <td>f763999191217e9945b26d312d0902d5</td>\n",
       "      <td>2022-06</td>\n",
       "      <td>3c4d48ad7d892bfe96a6df0fabe6deaa</td>\n",
       "      <td>1</td>\n",
       "      <td>1</td>\n",
       "      <td>2</td>\n",
       "      <td>2</td>\n",
       "      <td>1</td>\n",
       "      <td>2</td>\n",
       "    </tr>\n",
       "    <tr>\n",
       "      <th>1</th>\n",
       "      <td>377c62276b7dd74e406ac5de3c872110</td>\n",
       "      <td>2022-09</td>\n",
       "      <td>2dc5fe1b4f8895bb1096f6470b7d8550</td>\n",
       "      <td>2</td>\n",
       "      <td>2</td>\n",
       "      <td>2</td>\n",
       "      <td>2</td>\n",
       "      <td>2</td>\n",
       "      <td>2</td>\n",
       "    </tr>\n",
       "    <tr>\n",
       "      <th>2</th>\n",
       "      <td>20beb9edfc8536f19109a15b5ce1a845</td>\n",
       "      <td>2022-09</td>\n",
       "      <td>9c491ff90cbfc2882aa1116944658240</td>\n",
       "      <td>2</td>\n",
       "      <td>3</td>\n",
       "      <td>2</td>\n",
       "      <td>2</td>\n",
       "      <td>2</td>\n",
       "      <td>2</td>\n",
       "    </tr>\n",
       "    <tr>\n",
       "      <th>3</th>\n",
       "      <td>d0ae2fdd6681f6f99469af4f1ede3928</td>\n",
       "      <td>2022-10</td>\n",
       "      <td>3724c242924ad7b7871634355d6ee63e</td>\n",
       "      <td>3</td>\n",
       "      <td>3</td>\n",
       "      <td>2</td>\n",
       "      <td>2</td>\n",
       "      <td>2</td>\n",
       "      <td>2</td>\n",
       "    </tr>\n",
       "    <tr>\n",
       "      <th>4</th>\n",
       "      <td>4668950356774590b25d92473b8756d9</td>\n",
       "      <td>2022-02</td>\n",
       "      <td>99904aba55dd386296e5925bac70abe0</td>\n",
       "      <td>2</td>\n",
       "      <td>1</td>\n",
       "      <td>2</td>\n",
       "      <td>4</td>\n",
       "      <td>1</td>\n",
       "      <td>4</td>\n",
       "    </tr>\n",
       "  </tbody>\n",
       "</table>\n",
       "</div>"
      ],
      "text/plain": [
       "                         SupplierId RecentMonth  \\\n",
       "0  f763999191217e9945b26d312d0902d5     2022-06   \n",
       "1  377c62276b7dd74e406ac5de3c872110     2022-09   \n",
       "2  20beb9edfc8536f19109a15b5ce1a845     2022-09   \n",
       "3  d0ae2fdd6681f6f99469af4f1ede3928     2022-10   \n",
       "4  4668950356774590b25d92473b8756d9     2022-02   \n",
       "\n",
       "                     DerivativeName  DerivativeRegion  ProductionLine  \\\n",
       "0  3c4d48ad7d892bfe96a6df0fabe6deaa                 1               1   \n",
       "1  2dc5fe1b4f8895bb1096f6470b7d8550                 2               2   \n",
       "2  9c491ff90cbfc2882aa1116944658240                 2               3   \n",
       "3  3724c242924ad7b7871634355d6ee63e                 3               3   \n",
       "4  99904aba55dd386296e5925bac70abe0                 2               1   \n",
       "\n",
       "   T1Color  T2Color  T3Color  Result  \n",
       "0        2        2        1       2  \n",
       "1        2        2        2       2  \n",
       "2        2        2        2       2  \n",
       "3        2        2        2       2  \n",
       "4        2        4        1       4  "
      ]
     },
     "execution_count": 15,
     "metadata": {},
     "output_type": "execute_result"
    }
   ],
   "source": [
    "AuditHistory,encoding = code_categorical_columns(AuditHistory,['DerivativeRegion','ProductionLine','T1Color','T2Color','T3Color','Result'])\n",
    "AuditHistory.drop(labels='RecentTimeStamp',axis=1,inplace=True)\n",
    "AuditHistory.head()"
   ]
  },
  {
   "cell_type": "markdown",
   "metadata": {},
   "source": [
    "<br><div style=\"text-align: justify\"> \n",
    "My initial approach involves developing a machine learning algorithm for each audit stage (T1, T2, and T3). Each algorithm is designed to predict the qualification for its respective stage. By obtaining predictions from all three algorithms, the final result can be determined as the qualification of the latest audit stage. This approach also provides the opportunity to identify if any stage is particularly sensitive to specific features.\n",
    "\n",
    "To build these models, the next step is to define the features for each algorithm. Relevant information from the derivative, such as _DerivativeRegion_ and _ProductionLine_, and from the supplier, such as 'LPKM' and _BadSupplierIndicator_, will be incorporated. \n",
    "</div>"
   ]
  },
  {
   "cell_type": "code",
   "execution_count": 16,
   "metadata": {},
   "outputs": [
    {
     "data": {
      "text/html": [
       "<div>\n",
       "<style scoped>\n",
       "    .dataframe tbody tr th:only-of-type {\n",
       "        vertical-align: middle;\n",
       "    }\n",
       "\n",
       "    .dataframe tbody tr th {\n",
       "        vertical-align: top;\n",
       "    }\n",
       "\n",
       "    .dataframe thead th {\n",
       "        text-align: right;\n",
       "    }\n",
       "</style>\n",
       "<table border=\"1\" class=\"dataframe\">\n",
       "  <thead>\n",
       "    <tr style=\"text-align: right;\">\n",
       "      <th></th>\n",
       "      <th>DerivativeRegion</th>\n",
       "      <th>ProductionLine</th>\n",
       "      <th>12_Month_LPKM</th>\n",
       "      <th>BadSupplierIndicator</th>\n",
       "    </tr>\n",
       "  </thead>\n",
       "  <tbody>\n",
       "    <tr>\n",
       "      <th>0</th>\n",
       "      <td>1</td>\n",
       "      <td>1</td>\n",
       "      <td>NaN</td>\n",
       "      <td>NaN</td>\n",
       "    </tr>\n",
       "    <tr>\n",
       "      <th>1</th>\n",
       "      <td>2</td>\n",
       "      <td>2</td>\n",
       "      <td>4.7</td>\n",
       "      <td>0.0</td>\n",
       "    </tr>\n",
       "    <tr>\n",
       "      <th>2</th>\n",
       "      <td>2</td>\n",
       "      <td>3</td>\n",
       "      <td>4.2</td>\n",
       "      <td>0.0</td>\n",
       "    </tr>\n",
       "    <tr>\n",
       "      <th>3</th>\n",
       "      <td>3</td>\n",
       "      <td>3</td>\n",
       "      <td>4.5</td>\n",
       "      <td>0.0</td>\n",
       "    </tr>\n",
       "    <tr>\n",
       "      <th>4</th>\n",
       "      <td>2</td>\n",
       "      <td>1</td>\n",
       "      <td>3.9</td>\n",
       "      <td>1.0</td>\n",
       "    </tr>\n",
       "  </tbody>\n",
       "</table>\n",
       "</div>"
      ],
      "text/plain": [
       "   DerivativeRegion  ProductionLine  12_Month_LPKM  BadSupplierIndicator\n",
       "0                 1               1            NaN                   NaN\n",
       "1                 2               2            4.7                   0.0\n",
       "2                 2               3            4.2                   0.0\n",
       "3                 3               3            4.5                   0.0\n",
       "4                 2               1            3.9                   1.0"
      ]
     },
     "execution_count": 16,
     "metadata": {},
     "output_type": "execute_result"
    }
   ],
   "source": [
    "x_values = SupplierPerformance[['12_Month_LPKM','BadSupplierIndicator']].copy()\n",
    "x = pd.merge(AuditHistory[['DerivativeRegion', 'ProductionLine', 'SupplierId']], x_values, left_on='SupplierId', right_index=True, how='left')\n",
    "x.drop('SupplierId',axis=1,inplace=True)\n",
    "x.head()"
   ]
  },
  {
   "cell_type": "markdown",
   "metadata": {},
   "source": [
    "Additionally, information regarding the chronological sequence of audit results and the supplier's three, six, and 12 months metrics will be considered.\n",
    "<br><div style=\"text-align: justify\"> \n",
    "- **_WrongDeliveriesInTrim_ and _BacklogsInTrim:_** Assuming a chronological link between the datasets, the month of the audit can be mapped to whether it falls into the 3 prior months, between the 4 and 6 prior months, or on the 7 to 9 months. Applying this logic, each observation in the _AuditHistory_ dataset can be assigned values for 'wrong deliveries' and 'backlogs' based on the trimester and supplier to which they belong. For instance, audits in August, September, and October would fall into the 3 months prior category and receive corresponding values for *Amount_WD_3M*. On the other hand, audits in May, June, and July belong to the 4 to 6 months prior range and would be assigned values calculated as *Amount_WD_6M* - *Amount_WD_3M* (representing the amount of wrong deliveries generated in that second trimester). Finally, audits in February, March, and April fall into the 7 - 9 months range. Since Amount_WD_12M covers 12 months, the number of wrong deliveries in this interval would be (*Amount_WD_12M* - *Amount_WD_6M*)/2. This introduces a new feature referred to as _WrongDeliveriesInTrimester_ and _BacklogsInTrimester_.\n",
    "</div>"
   ]
  },
  {
   "cell_type": "code",
   "execution_count": 17,
   "metadata": {},
   "outputs": [],
   "source": [
    "WrongDeliveriesInTrim,BacklogsInTrim = generate_temporal_WDandBL(AuditHistory,SupplierPerformance)\n",
    "x['WrongDeliveriesInTrim'] = WrongDeliveriesInTrim\n",
    "x['BacklogsInTrim'] = BacklogsInTrim"
   ]
  },
  {
   "cell_type": "markdown",
   "metadata": {},
   "source": [
    "<br><div style=\"text-align: justify\"> \n",
    "For each observation with a prior chronological observation, we can compute several relevant metrics:\n",
    "\n",
    "- **_LatestQualification_:** Determine the qualification achieved in the latest audit visit for that audit stage.\n",
    "\n",
    "- **_LastAudit_**: Measure the time elapsed between the current audit and the previous one.\n",
    "\n",
    "</div>"
   ]
  },
  {
   "cell_type": "code",
   "execution_count": 18,
   "metadata": {},
   "outputs": [],
   "source": [
    "LatestQualification,LastAudit = generate_chronological_features(AuditHistory,SupplierPerformance)\n",
    "for i in [1,2,3]:\n",
    "    x[f'LatestQualificationT{i}'] = LatestQualification[i]"
   ]
  },
  {
   "cell_type": "code",
   "execution_count": 19,
   "metadata": {},
   "outputs": [
    {
     "data": {
      "text/html": [
       "<div>\n",
       "<style scoped>\n",
       "    .dataframe tbody tr th:only-of-type {\n",
       "        vertical-align: middle;\n",
       "    }\n",
       "\n",
       "    .dataframe tbody tr th {\n",
       "        vertical-align: top;\n",
       "    }\n",
       "\n",
       "    .dataframe thead th {\n",
       "        text-align: right;\n",
       "    }\n",
       "</style>\n",
       "<table border=\"1\" class=\"dataframe\">\n",
       "  <thead>\n",
       "    <tr style=\"text-align: right;\">\n",
       "      <th></th>\n",
       "      <th>DerivativeRegion</th>\n",
       "      <th>ProductionLine</th>\n",
       "      <th>12_Month_LPKM</th>\n",
       "      <th>BadSupplierIndicator</th>\n",
       "      <th>WrongDeliveriesInTrim</th>\n",
       "      <th>BacklogsInTrim</th>\n",
       "      <th>LatestQualificationT1</th>\n",
       "      <th>LatestQualificationT2</th>\n",
       "      <th>LatestQualificationT3</th>\n",
       "    </tr>\n",
       "  </thead>\n",
       "  <tbody>\n",
       "    <tr>\n",
       "      <th>0</th>\n",
       "      <td>1</td>\n",
       "      <td>1</td>\n",
       "      <td>NaN</td>\n",
       "      <td>NaN</td>\n",
       "      <td>&lt;NA&gt;</td>\n",
       "      <td>&lt;NA&gt;</td>\n",
       "      <td>2</td>\n",
       "      <td>2</td>\n",
       "      <td>1</td>\n",
       "    </tr>\n",
       "    <tr>\n",
       "      <th>1</th>\n",
       "      <td>2</td>\n",
       "      <td>2</td>\n",
       "      <td>4.7</td>\n",
       "      <td>0.0</td>\n",
       "      <td>0</td>\n",
       "      <td>0</td>\n",
       "      <td>2</td>\n",
       "      <td>2</td>\n",
       "      <td>2</td>\n",
       "    </tr>\n",
       "    <tr>\n",
       "      <th>2</th>\n",
       "      <td>2</td>\n",
       "      <td>3</td>\n",
       "      <td>4.2</td>\n",
       "      <td>0.0</td>\n",
       "      <td>0</td>\n",
       "      <td>7</td>\n",
       "      <td>2</td>\n",
       "      <td>2</td>\n",
       "      <td>2</td>\n",
       "    </tr>\n",
       "    <tr>\n",
       "      <th>3</th>\n",
       "      <td>3</td>\n",
       "      <td>3</td>\n",
       "      <td>4.5</td>\n",
       "      <td>0.0</td>\n",
       "      <td>2</td>\n",
       "      <td>0</td>\n",
       "      <td>2</td>\n",
       "      <td>2</td>\n",
       "      <td>2</td>\n",
       "    </tr>\n",
       "    <tr>\n",
       "      <th>4</th>\n",
       "      <td>2</td>\n",
       "      <td>1</td>\n",
       "      <td>3.9</td>\n",
       "      <td>1.0</td>\n",
       "      <td>0.0</td>\n",
       "      <td>2.0</td>\n",
       "      <td>&lt;NA&gt;</td>\n",
       "      <td>&lt;NA&gt;</td>\n",
       "      <td>&lt;NA&gt;</td>\n",
       "    </tr>\n",
       "  </tbody>\n",
       "</table>\n",
       "</div>"
      ],
      "text/plain": [
       "   DerivativeRegion  ProductionLine  12_Month_LPKM  BadSupplierIndicator  \\\n",
       "0                 1               1            NaN                   NaN   \n",
       "1                 2               2            4.7                   0.0   \n",
       "2                 2               3            4.2                   0.0   \n",
       "3                 3               3            4.5                   0.0   \n",
       "4                 2               1            3.9                   1.0   \n",
       "\n",
       "  WrongDeliveriesInTrim BacklogsInTrim LatestQualificationT1  \\\n",
       "0                  <NA>           <NA>                     2   \n",
       "1                     0              0                     2   \n",
       "2                     0              7                     2   \n",
       "3                     2              0                     2   \n",
       "4                   0.0            2.0                  <NA>   \n",
       "\n",
       "  LatestQualificationT2 LatestQualificationT3  \n",
       "0                     2                     1  \n",
       "1                     2                     2  \n",
       "2                     2                     2  \n",
       "3                     2                     2  \n",
       "4                  <NA>                  <NA>  "
      ]
     },
     "execution_count": 19,
     "metadata": {},
     "output_type": "execute_result"
    }
   ],
   "source": [
    "x.head()"
   ]
  },
  {
   "cell_type": "markdown",
   "metadata": {},
   "source": [
    "Finally, the response variable for each audit stage will be the actual qualification of the audit. "
   ]
  },
  {
   "cell_type": "code",
   "execution_count": 20,
   "metadata": {},
   "outputs": [
    {
     "data": {
      "text/html": [
       "<div>\n",
       "<style scoped>\n",
       "    .dataframe tbody tr th:only-of-type {\n",
       "        vertical-align: middle;\n",
       "    }\n",
       "\n",
       "    .dataframe tbody tr th {\n",
       "        vertical-align: top;\n",
       "    }\n",
       "\n",
       "    .dataframe thead th {\n",
       "        text-align: right;\n",
       "    }\n",
       "</style>\n",
       "<table border=\"1\" class=\"dataframe\">\n",
       "  <thead>\n",
       "    <tr style=\"text-align: right;\">\n",
       "      <th></th>\n",
       "      <th>T1</th>\n",
       "      <th>T2</th>\n",
       "      <th>T3</th>\n",
       "      <th>Result</th>\n",
       "    </tr>\n",
       "  </thead>\n",
       "  <tbody>\n",
       "    <tr>\n",
       "      <th>0</th>\n",
       "      <td>2</td>\n",
       "      <td>2</td>\n",
       "      <td>1</td>\n",
       "      <td>2</td>\n",
       "    </tr>\n",
       "    <tr>\n",
       "      <th>1</th>\n",
       "      <td>2</td>\n",
       "      <td>2</td>\n",
       "      <td>2</td>\n",
       "      <td>2</td>\n",
       "    </tr>\n",
       "    <tr>\n",
       "      <th>2</th>\n",
       "      <td>2</td>\n",
       "      <td>2</td>\n",
       "      <td>2</td>\n",
       "      <td>2</td>\n",
       "    </tr>\n",
       "    <tr>\n",
       "      <th>3</th>\n",
       "      <td>2</td>\n",
       "      <td>2</td>\n",
       "      <td>2</td>\n",
       "      <td>2</td>\n",
       "    </tr>\n",
       "    <tr>\n",
       "      <th>4</th>\n",
       "      <td>2</td>\n",
       "      <td>4</td>\n",
       "      <td>1</td>\n",
       "      <td>4</td>\n",
       "    </tr>\n",
       "  </tbody>\n",
       "</table>\n",
       "</div>"
      ],
      "text/plain": [
       "   T1  T2  T3  Result\n",
       "0   2   2   1       2\n",
       "1   2   2   2       2\n",
       "2   2   2   2       2\n",
       "3   2   2   2       2\n",
       "4   2   4   1       4"
      ]
     },
     "execution_count": 20,
     "metadata": {},
     "output_type": "execute_result"
    }
   ],
   "source": [
    "y = pd.DataFrame({'T1':[i for i in AuditHistory['T1Color']], \n",
    "                  'T2':[i for i in AuditHistory['T2Color']], \n",
    "                  'T3':[i for i in AuditHistory['T3Color']],\n",
    "                   'Result':[i for i in AuditHistory['Result']]})\n",
    "y.head()"
   ]
  },
  {
   "cell_type": "markdown",
   "metadata": {},
   "source": [
    "# 4.Predictor Selection\n",
    "<br><div style=\"text-align: justify\"> \n",
    "To select and engineer the features I heavily considered the total over 5800 suppliers from which only over 800 have available audit records. A full record of audits cannot be necessary to predict on audit results. Moreover, any of those others suppliers might have partial records of audits and still the need to predict their results exist. By observing the data, I can generate some hypothesis:\n",
    "</div>\n",
    "\n",
    "1. The LPKM and BadSupplierIndicator will be highly significative when explaining an audit's success or failure. \n",
    "\n",
    "2. The audit processes might be affected by different phenomena. \n",
    "\n",
    "To sumarize, the predictors of the result of an audit for a given supplier and a given derivative are:\n",
    "\n",
    "1. DerivativeRegion\n",
    "2. ProductionLine\n",
    "3. Latest T1 qualification\n",
    "4. Latest T2 qualification\n",
    "5. Latest T3 qualification\n",
    "6. Wrong orders in the past 3 months\n",
    "7. Backlogs in the past 3 months\n",
    "8. 12 Month LPKM\n",
    "9. BadSupplierIndicator"
   ]
  },
  {
   "cell_type": "markdown",
   "metadata": {},
   "source": [
    "# 5.Best Model Selection\n",
    "\n",
    "<br><div style=\"text-align: justify\"> \n",
    "For all three stages, we will evaluate the performance of three multiclass classifier algorithms: Random Forest, Logistic Regression, and Support Vector Classifier. The algorithms are evaluated using 5-fold cross-validation. Once the initial model is identified, a subsequent hyperparameter tuning phase will be conducted via a grid search.\n",
    "</div>"
   ]
  },
  {
   "cell_type": "code",
   "execution_count": 21,
   "metadata": {},
   "outputs": [],
   "source": [
    "x,y = clean_observations(x,y)\n",
    "x_train,x_test,y_train,y_test = train_test_split(x,y,test_size=0.2,random_state=42)"
   ]
  },
  {
   "cell_type": "markdown",
   "metadata": {},
   "source": [
    "## 5.1 Stage T1"
   ]
  },
  {
   "cell_type": "code",
   "execution_count": 22,
   "metadata": {},
   "outputs": [
    {
     "name": "stdout",
     "output_type": "stream",
     "text": [
      "RandomForest: Mean Accuracy = 0.98731, Standard Deviation = 0.00105\n",
      "LogisticRegression: Mean Accuracy = 0.98452, Standard Deviation = 0.00146\n",
      "SVM: Mean Accuracy = 0.98409, Standard Deviation = 0.0008\n"
     ]
    }
   ],
   "source": [
    "x_T1 = x_train[['DerivativeRegion', 'ProductionLine','12_Month_LPKM','BadSupplierIndicator','WrongDeliveriesInTrim','BacklogsInTrim',f'LatestQualificationT1']]\n",
    "y_T1 = y_train['T1']\n",
    "\n",
    "evaluate_models(x_T1,y_T1)"
   ]
  },
  {
   "cell_type": "markdown",
   "metadata": {},
   "source": [
    "The best fitting model is Random Forest."
   ]
  },
  {
   "cell_type": "code",
   "execution_count": 23,
   "metadata": {},
   "outputs": [
    {
     "name": "stdout",
     "output_type": "stream",
     "text": [
      "Best Parameters for Random Forest: {'max_depth': None, 'min_samples_leaf': 2, 'min_samples_split': 10, 'n_estimators': 100}\n",
      "Achieved Accuracy on Validation Set: 0.9890322580645161\n"
     ]
    }
   ],
   "source": [
    "model1 = tuneRandomForest(x_T1,y_T1)"
   ]
  },
  {
   "cell_type": "markdown",
   "metadata": {},
   "source": [
    "## 5.2 Stage T2"
   ]
  },
  {
   "cell_type": "code",
   "execution_count": 24,
   "metadata": {},
   "outputs": [
    {
     "name": "stdout",
     "output_type": "stream",
     "text": [
      "RandomForest: Mean Accuracy = 0.95763, Standard Deviation = 0.00469\n",
      "LogisticRegression: Mean Accuracy = 0.95247, Standard Deviation = 0.00416\n",
      "SVM: Mean Accuracy = 0.9372, Standard Deviation = 0.00351\n"
     ]
    }
   ],
   "source": [
    "x_T2 = x_train[['DerivativeRegion', 'ProductionLine','12_Month_LPKM','BadSupplierIndicator','WrongDeliveriesInTrim','BacklogsInTrim',f'LatestQualificationT2']]\n",
    "y_T2 = y_train['T2']\n",
    "\n",
    "evaluate_models(x_T2,y_T2)"
   ]
  },
  {
   "cell_type": "markdown",
   "metadata": {},
   "source": [
    "The best fitting model is Random Forest."
   ]
  },
  {
   "cell_type": "code",
   "execution_count": 25,
   "metadata": {},
   "outputs": [
    {
     "name": "stdout",
     "output_type": "stream",
     "text": [
      "Best Parameters for Random Forest: {'max_depth': None, 'min_samples_leaf': 2, 'min_samples_split': 5, 'n_estimators': 200}\n",
      "Achieved Accuracy on Validation Set: 0.964731182795699\n"
     ]
    }
   ],
   "source": [
    "model2 = tuneRandomForest(x_T2,y_T2)"
   ]
  },
  {
   "cell_type": "markdown",
   "metadata": {},
   "source": [
    "## 5.3 Stage T3"
   ]
  },
  {
   "cell_type": "code",
   "execution_count": 26,
   "metadata": {},
   "outputs": [
    {
     "name": "stdout",
     "output_type": "stream",
     "text": [
      "RandomForest: Mean Accuracy = 0.91828, Standard Deviation = 0.00557\n",
      "LogisticRegression: Mean Accuracy = 0.92602, Standard Deviation = 0.0052\n",
      "SVM: Mean Accuracy = 0.91484, Standard Deviation = 0.00931\n"
     ]
    }
   ],
   "source": [
    "x_T3 = x_train[['DerivativeRegion', 'ProductionLine','12_Month_LPKM','BadSupplierIndicator','WrongDeliveriesInTrim','BacklogsInTrim',f'LatestQualificationT3']]\n",
    "y_T3 = y_train['T3']\n",
    "\n",
    "evaluate_models(x_T3,y_T3)"
   ]
  },
  {
   "cell_type": "markdown",
   "metadata": {},
   "source": [
    "The best fitting model is a Logistic Regression."
   ]
  },
  {
   "cell_type": "code",
   "execution_count": 27,
   "metadata": {},
   "outputs": [
    {
     "name": "stdout",
     "output_type": "stream",
     "text": [
      "Best Parameters for Logistic Regression: {'C': 1, 'penalty': 'l2'}\n",
      "Achieved Accuracy on Validation Set: 0.9279569892473118\n",
      "{'C': 1, 'penalty': 'l2'}\n"
     ]
    }
   ],
   "source": [
    "model3 = tuneLogisticRegression(x_T3,y_T3)"
   ]
  },
  {
   "cell_type": "markdown",
   "metadata": {},
   "source": [
    "# 6.Prediction for Audit Results\n",
    "\n",
    "The final step to present the predictions is to ensamble the three models, predicting the outcome of the latest audit stage. "
   ]
  },
  {
   "cell_type": "code",
   "execution_count": 28,
   "metadata": {},
   "outputs": [
    {
     "name": "stdout",
     "output_type": "stream",
     "text": [
      "Overall Accuracy: 0.59845\n",
      "T1 audit stage accuracy: 0.9871\n",
      "T2 audit stage accuracy: 0.77214\n",
      "T3 audit stage accuracy: 0.61221\n"
     ]
    }
   ],
   "source": [
    "correctly_classified = {'overall':0, 1:0, 2:0, 3:0}\n",
    "\n",
    "for ii,i in enumerate(x_test.index):\n",
    "    q1 = model1.predict(x_test[list(x_test.columns)[:-2]])[ii]\n",
    "    q2 = model2.predict(x_test[list(x_test.columns)[:-3]+list(x_test.columns)[-2:-1]])[ii]\n",
    "    q3 = model3.predict(x_test[list(x_test.columns)[:-3]+list(x_test.columns)[-1:]])[ii]\n",
    "    \n",
    "    result = PredictResult(q1,q2,q3)\n",
    "    \n",
    "    if result == y_test['Result'][i]:\n",
    "        correctly_classified['overall'] += 1\n",
    "    if q1 == y_test['T1'][i]:\n",
    "        correctly_classified[1] += 1\n",
    "    if q1 == y_test['T2'][i]:\n",
    "        correctly_classified[2] += 1\n",
    "    if q1 == y_test['T3'][i]:\n",
    "        correctly_classified[3] += 1\n",
    "\n",
    "print(f'Overall Accuracy: {round(correctly_classified[\"overall\"]/len(x_test.index),5)}')\n",
    "\n",
    "print(f'T1 audit stage accuracy: {round(correctly_classified[1]/len(x_test.index),5)}')\n",
    "print(f'T2 audit stage accuracy: {round(correctly_classified[2]/len(x_test.index),5)}')\n",
    "print(f'T3 audit stage accuracy: {round(correctly_classified[3]/len(x_test.index),5)}')"
   ]
  },
  {
   "cell_type": "markdown",
   "metadata": {},
   "source": [
    "# 7. Business recommendations.\n",
    "\n",
    "The achieved accuracy with the model is not very competitive. However, the methodology shows promise for further developments (see section 9). Despite the overall accuracy, the model remains accurate for individual audit stages, providing valuable insights that could potentially serve as input for another machine learning algorithm. It's worth noting that the models for later audit stages perform less optimally, possibly due to the issues highlighted in point 5 of Section 9, suggesting significant potential for improvement with the inclusion of additional features. I would also recommend exploring the implementation of a probabilistic model, such as a Markov Chain, to include the stochastic nature of when new interventions might occur or to optimally plan supplier audits."
   ]
  },
  {
   "cell_type": "markdown",
   "metadata": {},
   "source": [
    "# 8.Model Maintenance\n",
    "<br><div style=\"text-align: justify\"> \n",
    "When it comes to model improvement, the following section presents various ideas to complement and enhance the current model. Conversely, in terms of model maintenance, I have several suggestions:\n",
    "\n",
    "- Documentation: While it may seem straightforward, consistent and coherent documentation is crucial. It allows data scientists to comprehend, adapt, and troubleshoot any parts of the code effectively.\n",
    "\n",
    "- Modularity: While not necessarily applicable at this scale, as the complexity of data increases, building efficient independent code blocks can facilitate collaborative work. It makes it easier for multiple individuals to work simultaneously, and interventions in the code become more manageable.\n",
    "\n",
    "- Practice: At a practical level, the introduction of a validation loop when the algorithm starts being utilized is essential. This involves verifying whether the data given to the model aligns with the data it was trained on. Additionally, validating if the predictions of the model align with reality by tracking key performance indicators (KPIs) is crucial for ongoing model assessment.\n",
    "</div>"
   ]
  },
  {
   "cell_type": "markdown",
   "metadata": {},
   "source": [
    "### 9. Additional Ideas\n",
    "<br><div style=\"text-align: justify\"> \n",
    "Throughout the course of this project, several ideas emerged that, unfortunately, I couldn't fully explore due to time constraints. Nevertheless, I would like to present them:\n",
    "\n",
    "1. **Data Exploration**: Further data exploration can be done to gain more insight on the data: correlation analysis, time series analysis, derivatives that each supplier has, box plots, outliers and more. \n",
    "\n",
    "1. **Missing data handling**: Due to the relatively small amount of missing data, I simply removed it from the dataset. Furthermore, in the feature engineering phase all first observations for a supplier and derivative are discarted as they have no prior records and the 'Previous qualification' and 'Time since last audit' don't exist. More advanced data imputation techniques could preserve information on the data that is being discarted.\n",
    "\n",
    "2. **Supplier Clustering**: Despite numerous suppliers lacking audit records in the primary analysis, there is an opportunity for further investigation. Employing a clustering algorithm could group these suppliers, allowing for the extraction of pertinent features. These features could then serve as input for a machine learning classification algorithm.\n",
    "\n",
    "3. **Additional Features**: The generation of more features from the available data could enhance prediction capabilities. For instance, incorporating features such as the time since a change in qualification on a specific audit stage or determining whether the number of wrong deliveries/backlogs has increased or decreased from the last 6 months to the last 3 months could provide valuable insights.\n",
    "\n",
    "4. **Additional Information for Phases T2 and T3**: Understanding the audit process as a sequential flow, incorporating variables such as the 'qualification of the previous audit stage in the last audit' could improve prediction capabilities for stages T2 and T3 by removing potential blind spots.\n",
    "\n",
    "5. **Inconsistencies in Audit Information**: Upon reviewing records for certain suppliers and derivatives, anomalies have been identified, including instances with up to 21 entries within the nine-month period. Additionally, irregular transitions between green and red qualifications, and vice versa, have been observed.\n",
    "</div>"
   ]
  },
  {
   "cell_type": "markdown",
   "metadata": {},
   "source": []
  }
 ],
 "metadata": {
  "kernelspec": {
   "display_name": "Python 3",
   "language": "python",
   "name": "python3"
  },
  "language_info": {
   "codemirror_mode": {
    "name": "ipython",
    "version": 3
   },
   "file_extension": ".py",
   "mimetype": "text/x-python",
   "name": "python",
   "nbconvert_exporter": "python",
   "pygments_lexer": "ipython3",
   "version": "3.11.5"
  },
  "orig_nbformat": 4
 },
 "nbformat": 4,
 "nbformat_minor": 2
}
